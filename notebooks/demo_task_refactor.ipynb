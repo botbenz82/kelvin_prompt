{
 "cells": [
  {
   "cell_type": "code",
   "execution_count": 1,
   "metadata": {},
   "outputs": [
    {
     "name": "stderr",
     "output_type": "stream",
     "text": [
      "/home/ubuntu/steffen/text-prompting-private/env/lib/python3.8/site-packages/tqdm/auto.py:21: TqdmWarning: IProgress not found. Please update jupyter and ipywidgets. See https://ipywidgets.readthedocs.io/en/stable/user_install.html\n",
      "  from .autonotebook import tqdm as notebook_tqdm\n"
     ]
    }
   ],
   "source": [
    "\n",
    "import torch\n",
    "\n",
    "import bittensor as bt\n",
    "import pandas as pd\n",
    "       \n",
    "from new_agent import HumanAgent\n",
    "from prompting.tasks import DebuggingTask, QuestionAnsweringTask, SummarizationTask\n",
    "from tasks.dataset import WikiDataset, StackOverflowDataset, CodingDataset\n",
    "from transformers import pipeline\n",
    "\n",
    "def make_agent(task, llm_pipeline):\n",
    "    bt.logging.info(\"Creating agent...\")\n",
    "    agent = HumanAgent(\n",
    "        task=task,\n",
    "        llm=llm_pipeline,\n",
    "        system_template=None,\n",
    "        begin_conversation=True\n",
    "    )\n",
    "    bt.logging.info(f'Agent created with persona: {agent.persona}')\n",
    "    bt.logging.info(f'Agent challenge: {agent.challenge}')\n",
    "    return agent\n"
   ]
  },
  {
   "cell_type": "code",
   "execution_count": 2,
   "metadata": {},
   "outputs": [
    {
     "name": "stdout",
     "output_type": "stream",
     "text": [
      "\u001b[34m2024-01-08 04:43:42.321\u001b[0m | \u001b[1m      INFO      \u001b[0m | 🤖 Loading LLM model...        \n"
     ]
    },
    {
     "name": "stderr",
     "output_type": "stream",
     "text": [
      "Loading checkpoint shards: 100%|██████████| 8/8 [00:03<00:00,  2.67it/s]\n"
     ]
    }
   ],
   "source": [
    "\n",
    "model_id = \"HuggingFaceH4/zephyr-7b-beta\"\n",
    "bt.logging.info(\"🤖 Loading LLM model...\")\n",
    "llm_pipeline = pipeline(\n",
    "    \"text-generation\",\n",
    "    model=model_id,\n",
    "    torch_dtype=torch.bfloat16,\n",
    "    device_map=\"cuda:0\",\n",
    ")"
   ]
  },
  {
   "cell_type": "code",
   "execution_count": 3,
   "metadata": {},
   "outputs": [],
   "source": [
    "dataset = WikiDataset()"
   ]
  },
  {
   "cell_type": "code",
   "execution_count": 4,
   "metadata": {},
   "outputs": [
    {
     "name": "stdout",
     "output_type": "stream",
     "text": [
      "\u001b[34m2024-01-08 04:43:49.157\u001b[0m | \u001b[1m      INFO      \u001b[0m | Choosing 2 chunks starting at index 1.\n"
     ]
    },
    {
     "data": {
      "text/plain": [
       "{'title': 'Availability-based tariff',\n",
       " 'url': 'https://en.wikipedia.org/wiki/Availability-based_tariff',\n",
       " 'length': 35495,\n",
       " 'extract': '<p class=\"mw-empty-elt\">\\n\\n</p>\\n<p><b>Availability Based Tariff</b> (ABT) is a frequency based pricing mechanism applicable in India for unscheduled electric power transactions. The ABT falls under electricity market mechanisms to charge and regulate power to achieve short term and long term network stability as well as incentives and dis-incentives to grid participants against deviations in committed supplies as the case may be.</p>\\n\\n\\n<h2><span id=\"Introduction\">Introduction</span></h2>\\n<p>ABT Mechanism in Electricity sector in India is adopted since the year 2000 and in a few other countries for pricing bulk power across various stakeholders. ABT concerns itself with the tariff structure for bulk power and is aimed at bringing about more responsibility and accountability in power generation and consumption through a scheme of incentives and disincentives. As per the notification, ABT was initially made applicable to only central generating stations having more than one SEB/State/Union Territory as its beneficiary. Through this scheme, the Central Electricity Regulatory Commission (CERC) looks forward to improve the quality of power and curtail the following disruptive trends in power sector:\\n</p>\\n<ul><li>Unacceptably rapid and high frequency deviations (from 50\\xa0Hz) causing damage and disruption to large scale industrial consumers</li>\\n<li>Frequent grid disturbances resulting in generators tripping, power outages and power grid disintegration.</li></ul><p>The ABT scheme has now been expanded to cover the Intrastate systems as well. The power generation or grid capacity has increased substantially in last fifteen years particularly after the Electricity Act 2003 by introduction of competition and unbundling of vertically integrated utilities (SEBs) into separate entities in charge of electricity generation, electricity transmission, and electricity distribution. Deregulation and competition has facilitated participation of private sector on large scale in electricity generation, transmission and distribution. Of late, Indian electricity sector is transforming from perennial deficit to surplus electricity availability. The volume of purchased electricity that could not be transmitted to the buyers due to transmission lines congestion is only 0.3% of the total electricity consumed in the financial year 2013–14. It means that the actual power deficit in India is less than 1% excluding under priced electricity demand. ABT/DSM mechanism needs improvements to address the requirements of all stake holders (including final electricity consumers) for encouraging least cost electricity generation / tariff based on demand verses availability in the grid. There is a need of well represented Electric Reliability Organization to involve all the grid participants for framing guidelines for power system operation and accreditation which is presently looked after by the CEA\\n</p><p>Bulk power purchasers can buy electricity on daily basis for short, medium and long term duration from reverse e-auction facility. In reverse e-auction, availability based tariff /Deviation Settlement Mechanism (DSM) is applied to settle the failed commitments by the electricity sellers or buyers The electricity prices transacted under reverse e-auction facility are far less than the prices agreed under bilateral agreements.</p><p>For those power generators who have made power purchase agreements (PPA) with Discoms and need not participate in day ahead market (DAM) trading on daily basis, the pecking order among the power generators in a state is called merit order power generation where the lesser variable generation cost electricity producer is selected out of the available generators to maintain the normal grid frequency. IEX is also implementing real-time round the clock trading or one hour ahead trading which will take care of intra day market dynamics. GoI also permitted electricity trading on exchanges with forward and derivatives contracts.</p><p>A reverse auction is not a perfect price discovery mechanism or balanced market coupling where single price is applicable to all traders when there is no transmission constraints. However, when the demand is slightly more than the supply, the market discovered price (Rs/KWh) would go steeply high and vice versa. When there is a transmission constraint to export power to a region, the difference between the market-discovered prices of different regions are unreasonably high. In reverse auction trading, the buyers pay a very high price/KWh (many times more than the cost of power from the diesel generator sets) for the incremental purchases.\\n</p><p>In 2021, CERC proposed a grid management system where ancillary service providers are fully responsible for maintaining grid frequency within the safe range similar to prevalent practice in developed countries. Generators and Discoms are not required to keep the grid frequency in the permitted range under this proposal and the applicable power tariff is delinked from the grid frequency. Observing its detrimental effects on grid safety, it was discontinued after implementing for a few weeks.\\n</p>\\n<h2><span id=\"ABT_details\">ABT details</span></h2>\\n<ul><li>What is availability?</li></ul><p>Availability, for the purpose of the ABT order means the readiness of the generating station to deliver ex-bus output expressed as a percentage of its ex-bus rated capacity (MCR). Electricity is a commodity whose cost of storing is more than its production cost. The most economical method for electricity generation, transmission and distribution is just in time production where the availability and reliability of the entire system shall be very high to meet the unpredictable electricity demand on minute to minute basis.\\n</p>\\n<ul><li>How is availability calculated?</li></ul><p>Availability of thermal generating station for any period shall be the percentage ratio of average Sent Out Capability (SOC) for all the time blocks during that period and the rated MCR / SOC of generating station. The SAIDI (System Average Interruption Duration Index) is commonly used as a reliability indicator by electric power utilities.\\n</p>\\n<ul><li>Is unified electric grid of India, a smart grid?</li></ul><p>During the fiscal year 2014–15, 1,043 billion KWh of electricity (three times that of National Grid) was supplied and met 138,215 MW maximum peak load. The total installed generation capacity is 267,637 MW at the end of fiscal year 2014–15. Its size is of global scale comparable only with EU grid, NERC grid, China electricity grid and Russian electricity grid. However, Indian grid lacks the basic features of smart grid for optimum use of its deployed resources.</p>\\n<ul><li>What is the effectiveness criteria of a smart grid?</li></ul><p>Generally the top 10% of the unrestricted daily peak load (MW) persists only for 1% (15 minutes) of the total duration and its energy share (MWHr) is of the order of 0.2% of the daily energy supplied. Instead of generating this substantial extra power for a short duration, automatic selective load shedding can be implemented on bulk consumers possessing with standby power facility to eliminate the load spikes without inconvenience to most of the consumers. Alternatively, working captive power plants start feeding to the grid by giving break to the captive power supply up to a maximum of 30 minutes duration. The standby generator / captive power owner would be paid for providing grid reserve ancillary services.\\n</p><p>With an installed capacity of proper mix of base load and variable load generation capability (excluding low capacity utilisation or secondary power or negative load type on daily basis such as solar, wind, etc. without storage) equivalent to the unrestricted annual maximum peak load, the most effective and economical smart grid shall be able to cater more than 99 percentile duration unrestricted load/demand on daily basis with 100% stable operation of the grid. The purpose of smart grid is to supply required electricity at optimum cost with reliability to the final consumers.</p>\\n<h2><span id=\"Scheduling\">Scheduling</span></h2>\\n<ul><li>Each day of 24 hrs starting from 00.00 hours be divided into 96 time blocks of 15 minutes each.</li>\\n<li>Each generating station is to make advance declaration of its capacity for generation in terms of MWh delivery ex-bus for each time block of the next day. In addition, the total ex-bus MWh which can actually be delivered during the day will also be declared in case of hydro stations. These shall constitute the basis of generation scheduling.</li>\\n<li>While declaring the capability, the generator should ensure that the capability during peak hours is not less than that during other hours.</li>\\n<li>The Scheduling as referred to above should be in accordance with the operating procedures in force.</li>\\n<li>Based on the above declaration, the Regional Load Dispatch Centre (RLDC) shall communicate to the various beneficiaries their respective shares of the available capability.</li>\\n<li>After the beneficiaries give their requisition for power based on the generation schedules, the RLDC shall prepare the generation schedules and drawal schedules for each time block after taking into account technical limitations and transmission constraints.</li>\\n<li>The schedule of actual generation shall be quantified on ex-bus basis, whereas for beneficiaries, scheduled drawals shall be quantified at their respective receiving points.</li>\\n<li>For calculating the drawal schedule for beneficiaries, the transmission losses shall be apportioned in proportion to their drawals.</li>\\n<li>In case of any forced outage of a unit, or in case of any transmission bottleneck, RLDC will revise the schedules. The revised schedules will become effective from the 4th time block, counting the time block in which the revision is advised by the generator, to be the 1st one.</li>\\n<li>It is also permissible for the generators and the beneficiaries to revise their schedules during a day, but any such revisions shall be effective only from the 6th time block reckoned in the manner as already stated.</li></ul><h2><span id=\"ABT_features\">ABT features</span></h2>\\n<ul><li>ABT brings about enhanced grid discipline</li></ul><ul><li>Economically viable power with right pricing</li>\\n<li>Promote competition and efficiency</li>\\n<li>Encourage use of Merit Order Dispatch / Economic Dispatch in India.</li>\\n<li>Addressing grid disturbance issues</li>\\n<li>Gaming and avoiding the same</li>\\n<li>Requires special meters, remote metering with open protocols and communication mechanisms to read meters timely</li>\\n<li>Software that is comprehensive to do calculations, address regulatory issues and modifications as per different Regulatory Commission requirements.</li>\\n<li>Interface options to various stakeholders in the ABT mechanism on line to enable effective implementation and <b>benefits to all</b>* Capability of power producers to be able to control their cost of production as well as flexibility in operations</li></ul><h2><span id=\"ABT_drawbacks\">ABT drawbacks</span></h2>\\n<ul><li>As per DSM / UI procedure, the incentives and penalty to the grid participants are charged based on the average grid frequency in a time block of 15 minutes duration. During a time block, it is normal that frequency goes above rated 50\\xa0Hz frequency and comes down below rated frequency as the number of frequency excursions above 50\\xa0Hz are more than 100 in a day. Thus the average frequency in a time block remains close to the 50\\xa0Hz without giving much benefit in the applicable UI tariff for a Discom who is consuming the surplus power available in the grid or generators with valid scheduling who is reducing the generation when frequency is above 50\\xa0Hz. Similarly, the generators and Discoms who are not adhering to grid discipline are not penalised with UI tariff in excess of normal tariff when average grid frequency in a time block is used for fixing UI/DSM charges. Each time block is further needs to be separated into two parts for application of UI charges. One for the duration the frequency is more than 50\\xa0Hz whose average frequency is considered for fixing UI/ DSM charges to consume the excess power in the grid or reduce excess power generation. Another for the duration the frequency is less than 50\\xa0Hz whose average frequency is considered for fixing UI/DSM charges to reduce over drawl and encourage additional power generation.</li>\\n<li>Whenever distribution feeders from a substation are switched on after a break down or scheduled power cut, it should be done only when grid frequency is above 50\\xa0Hz such that it does not lead to steep drop in the frequency . The total numbers of feeders switching on, in a day are substantial at national level to cause load (≥ 500 MW) increase on the grid to cause wide fluctuations.</li>\\n<li>The incentives and disincentives are prefixed  (annually/periodically) by the electricity regulator (CERC) for the variation in the grid frequency which may not reflect the actual situation temporally and spatially on day-to-day basis. There is a need to decide the electricity tariff by the grid participants (generators, discoms, transcos &amp; final consumers) on day-to-day basis for achieving further fine tuning. To correct these anomalies, CERC has proposed 100% sale and purchase of power produced in day ahead market.</li>\\n<li>The ABT mechanism aims to maintain grid frequency at 50\\xa0Hz but does not permit the grid participants to decide the optimum frequency within the permitted frequency band (say 49.20 to 50.80\\xa0Hz) on day-to-day basis. This is required not to impose additional load shedding/power cuts when frequency is within the safe variation limits.</li>\\n<li>Transmission system operator (TSO) is obliged to provide non-discriminatory transmission access to electricity generators and consumers in order to promote competition. ABT mechanism does not bring at par all the grid participants whether in private or central sector or state sector ownership.  ABT mechanism does not encourage to install the generating units at advantageous locations to offer least cost electricity to the final electricity consumers. ABT mechanism is suitable in an electricity grid suffering from perennial power shortages to prevent overdrwals but it is not suitable for the grid with surplus electricity generation with non-discriminatory responsibility. CERC regulation on ancillary services operations, are permitting only inter state power generating stations to provide these services which are discriminatory by not allowing rest of electricity generators.</li>\\n<li>Every state is conducting independently load management to avoid overdrawal from other states by using mix of generation sources (ex: hydro power or peaking power plants) to adhere to their power drawal commitments on 15 minutes period basis in ABT mechanism. Thus hydro power stations are ending up to cater base load instead of peak load in non-monsoon months also (ex: Kerala, Karnataka, Telangana, HP, J&amp;K, Uttarakhand, etc.). TSO is responsible to ensure the provision of reserves  (including spinning reserve for base load power plants by operating in frequency follow mode with upper &amp; lower generation caps) that will allow for sudden contingencies by determining the optimal combination of generating stations and reserve providers for each grid trade bloc. The available hydro power stations in a region/grid should be used to cater peaking load only at regional/national level. Using hydro power stations to cater peak load, would improve the peaking load capability of a regional/national grid and maintain safe grid frequency and network stability. The 24 hours duration of a day should be divided into four parts only (i.e. daytime peak load period, daytime off peak load period, nighttime peak load period and nighttime off peak load period) instead of 96 number 15 minutes periods for commercially settling the power transactions to cater better to the peak load requirements within the safe frequency range.</li>\\n<li>Many gas turbine power stations are not operating due to perennial natural gas shortage. Recently, many DG sets (large &amp; medium sizes) are also idling throughout the year due to better availability of grid power.  Alternatively, these power generation units can be put to use for grid reserve service either with liquid / gas fuels when there is unexpected tripping of operating power plants (five nos of 660 MW stations in a short duration) or tripping of a high voltage transmission line to prevent the grid operation below safe limit. This would also allow all the available transmission lines at their full capacity in service without the need to maintain n+1 reserve capacity for meeting any break down and thus accruing savings in high voltage transmission losses. The unified national grid stability can also be enhanced further by converting the existing back to back HVDC links into HVAC links bypassing the existing converter stations. These are Chandrapur back to back HVDC converter station, Vizag back to back HVDC converter station, Sasaram back to back HVDC converter station, Vindhyachal back to back HVDC converter station and HVDC Sileru–Barsoor link. The yearly cost of ensuring grid safety would be less than 2 paisa per Kwh for the total electricity generation in India.</li></ul><h2><span id=\"Natural_gas_transmission\">Natural gas transmission</span></h2>\\n<p>The Petroleum and Natural Gas Regulatory Board (PNGRB) was created in the year 2005 to regulate downstream activities in the petroleum and natural gas sector. There is requirement of natural gas TSO also for imparting optimum use of the gas on hourly basis for meeting peak load in the electricity grid and minimize gas transport distances. The available gas should be stored up to rated pressure in the pipe grid for generating power during peak demand hours on a daily (or more) basis. The natural gas carrying capacity utilization of GAIL pipelines is not exceeding 33%. Thus available limited gas quantity is used to meet the peak electricity loads by all gas based power stations. Gas turbine power plants are operated at 32.6%  capacity factor as peaking power plants only in the US though being a surplus natural gas producer with lower price and the natural gas contributes largest portion (35.06%) of the total electricity produced. Also gas should not be transported from a power deficit region to a power surplus region by the gas grid and generated power from gas there shall not be transmitted back to the power deficit region to avoid misuse of the gas and power grid infrastructure. Natural gas TSO would also serve other sectors such as petro-chemical plants, CNG, fertilizer plants, PNG, LNG, etc. as per their hourly requirement in addition to receive gas from various types of natural gas producers and importers.</p><p>Indian Gas Exchange (IGX) started online gas trading platform for physical delivery of natural gas. Initially, the company has identified Dahej, Hazira and Kakinada as delivery points and will subsequently include Dhabol, Kochi, Ennore and Mundra terminals.</p>\\n<h2><span id=\"See_also\">See also</span></h2>\\n\\n<h2><span id=\"References\">References</span></h2>\\n\\n<h2><span id=\"External_links\">External links</span></h2>\\n<ul><li>The Perspective Transmission Plan (2016-36) Archived 20 December 2016 at the Wayback Machine</li>\\n<li>Summary record of discussions at the first meeting of the grid study committee held on 22 May 2015 in CEA</li>\\n<li>Grid maps of southern region Archived 31 July 2021 at the Wayback Machine</li>\\n<li>CERC INDIA Website</li>\\n<li>Significance of UI Mechanism for Power Pricing</li>\\n<li>Introduction to ABT - A White Paper</li>\\n<li>ABT Software Archived 6 July 2010 at the Wayback Machine</li>\\n<li>COMPASS an Availability Based Tariff software from Engineering Consultants Group Inc</li></ul>',\n",
       " 'backlinks': 19,\n",
       " 'categories': ['Electric power distribution',\n",
       "  'Electric power in Indi',\n",
       "  'Electric power transmission system operators',\n",
       "  'Electric power transmission systems',\n",
       "  'Short description matches Wikid',\n",
       "  'Use Indian English from June 2015',\n",
       "  'Use dmy dates from June 2015',\n",
       "  'Webarchive template wayback links'],\n",
       " 'sections': {None: 'Availability Based Tariff (ABT) is a frequency based pricing mechanism applicable in India for unscheduled electric power transactions. The ABT falls under electricity market mechanisms to charge and regulate power to achieve short term and long term network stability as well as incentives and dis-incentives to grid participants against deviations in committed supplies as the case may be.\\n\\n\\n',\n",
       "  'Introduction': 'ABT Mechanism in Electricity sector in India is adopted since the year 2000 and in a few other countries for pricing bulk power across various stakeholders. ABT concerns itself with the tariff structure for bulk power and is aimed at bringing about more responsibility and accountability in power generation and consumption through a scheme of incentives and disincentives. As per the notification, ABT was initially made applicable to only central generating stations having more than one SEB/State/Union Territory as its beneficiary. Through this scheme, the Central Electricity Regulatory Commission (CERC) looks forward to improve the quality of power and curtail the following disruptive trends in power sector:\\n\\nUnacceptably rapid and high frequency deviations (from 50 Hz) causing damage and disruption to large scale industrial consumers\\nFrequent grid disturbances resulting in generators tripping, power outages and power grid disintegration.The ABT scheme has now been expanded to cover the Intrastate systems as well. The power generation or grid capacity has increased substantially in last fifteen years particularly after the Electricity Act 2003 by introduction of competition and unbundling of vertically integrated utilities (SEBs) into separate entities in charge of electricity generation, electricity transmission, and electricity distribution. Deregulation and competition has facilitated participation of private sector on large scale in electricity generation, transmission and distribution. Of late, Indian electricity sector is transforming from perennial deficit to surplus electricity availability. The volume of purchased electricity that could not be transmitted to the buyers due to transmission lines congestion is only 0.3% of the total electricity consumed in the financial year 2013–14. It means that the actual power deficit in India is less than 1% excluding under priced electricity demand. ABT/DSM mechanism needs improvements to address the requirements of all stake holders (including final electricity consumers) for encouraging least cost electricity generation / tariff based on demand verses availability in the grid. There is a need of well represented Electric Reliability Organization to involve all the grid participants for framing guidelines for power system operation and accreditation which is presently looked after by the CEA\\nBulk power purchasers can buy electricity on daily basis for short, medium and long term duration from reverse e-auction facility. In reverse e-auction, availability based tariff /Deviation Settlement Mechanism (DSM) is applied to settle the failed commitments by the electricity sellers or buyers The electricity prices transacted under reverse e-auction facility are far less than the prices agreed under bilateral agreements.For those power generators who have made power purchase agreements (PPA) with Discoms and need not participate in day ahead market (DAM) trading on daily basis, the pecking order among the power generators in a state is called merit order power generation where the lesser variable generation cost electricity producer is selected out of the available generators to maintain the normal grid frequency. IEX is also implementing real-time round the clock trading or one hour ahead trading which will take care of intra day market dynamics. GoI also permitted electricity trading on exchanges with forward and derivatives contracts.A reverse auction is not a perfect price discovery mechanism or balanced market coupling where single price is applicable to all traders when there is no transmission constraints. However, when the demand is slightly more than the supply, the market discovered price (Rs/KWh) would go steeply high and vice versa. When there is a transmission constraint to export power to a region, the difference between the market-discovered prices of different regions are unreasonably high. In reverse auction trading, the buyers pay a very high price/KWh (many times more than the cost of power from the diesel generator sets) for the incremental purchases.\\nIn 2021, CERC proposed a grid management system where ancillary service providers are fully responsible for maintaining grid frequency within the safe range similar to prevalent practice in developed countries. Generators and Discoms are not required to keep the grid frequency in the permitted range under this proposal and the applicable power tariff is delinked from the grid frequency. Observing its detrimental effects on grid safety, it was discontinued after implementing for a few weeks.\\n\\n\\n',\n",
       "  'ABT details': 'What is availability?Availability, for the purpose of the ABT order means the readiness of the generating station to deliver ex-bus output expressed as a percentage of its ex-bus rated capacity (MCR). Electricity is a commodity whose cost of storing is more than its production cost. The most economical method for electricity generation, transmission and distribution is just in time production where the availability and reliability of the entire system shall be very high to meet the unpredictable electricity demand on minute to minute basis.\\n\\nHow is availability calculated?Availability of thermal generating station for any period shall be the percentage ratio of average Sent Out Capability (SOC) for all the time blocks during that period and the rated MCR / SOC of generating station. The SAIDI (System Average Interruption Duration Index) is commonly used as a reliability indicator by electric power utilities.\\n\\nIs unified electric grid of India, a smart grid?During the fiscal year 2014–15, 1,043 billion KWh of electricity (three times that of National Grid) was supplied and met 138,215 MW maximum peak load. The total installed generation capacity is 267,637 MW at the end of fiscal year 2014–15. Its size is of global scale comparable only with EU grid, NERC grid, China electricity grid and Russian electricity grid. However, Indian grid lacks the basic features of smart grid for optimum use of its deployed resources.\\nWhat is the effectiveness criteria of a smart grid?Generally the top 10% of the unrestricted daily peak load (MW) persists only for 1% (15 minutes) of the total duration and its energy share (MWHr) is of the order of 0.2% of the daily energy supplied. Instead of generating this substantial extra power for a short duration, automatic selective load shedding can be implemented on bulk consumers possessing with standby power facility to eliminate the load spikes without inconvenience to most of the consumers. Alternatively, working captive power plants start feeding to the grid by giving break to the captive power supply up to a maximum of 30 minutes duration. The standby generator / captive power owner would be paid for providing grid reserve ancillary services.\\nWith an installed capacity of proper mix of base load and variable load generation capability (excluding low capacity utilisation or secondary power or negative load type on daily basis such as solar, wind, etc. without storage) equivalent to the unrestricted annual maximum peak load, the most effective and economical smart grid shall be able to cater more than 99 percentile duration unrestricted load/demand on daily basis with 100% stable operation of the grid. The purpose of smart grid is to supply required electricity at optimum cost with reliability to the final consumers.\\n\\n\\n',\n",
       "  'Scheduling': 'Each day of 24 hrs starting from 00.00 hours be divided into 96 time blocks of 15 minutes each.\\nEach generating station is to make advance declaration of its capacity for generation in terms of MWh delivery ex-bus for each time block of the next day. In addition, the total ex-bus MWh which can actually be delivered during the day will also be declared in case of hydro stations. These shall constitute the basis of generation scheduling.\\nWhile declaring the capability, the generator should ensure that the capability during peak hours is not less than that during other hours.\\nThe Scheduling as referred to above should be in accordance with the operating procedures in force.\\nBased on the above declaration, the Regional Load Dispatch Centre (RLDC) shall communicate to the various beneficiaries their respective shares of the available capability.\\nAfter the beneficiaries give their requisition for power based on the generation schedules, the RLDC shall prepare the generation schedules and drawal schedules for each time block after taking into account technical limitations and transmission constraints.\\nThe schedule of actual generation shall be quantified on ex-bus basis, whereas for beneficiaries, scheduled drawals shall be quantified at their respective receiving points.\\nFor calculating the drawal schedule for beneficiaries, the transmission losses shall be apportioned in proportion to their drawals.\\nIn case of any forced outage of a unit, or in case of any transmission bottleneck, RLDC will revise the schedules. The revised schedules will become effective from the 4th time block, counting the time block in which the revision is advised by the generator, to be the 1st one.\\nIt is also permissible for the generators and the beneficiaries to revise their schedules during a day, but any such revisions shall be effective only from the 6th time block reckoned in the manner as already stated.\\n\\n\\n',\n",
       "  'ABT features': 'ABT brings about enhanced grid disciplineEconomically viable power with right pricing\\nPromote competition and efficiency\\nEncourage use of Merit Order Dispatch / Economic Dispatch in India.\\nAddressing grid disturbance issues\\nGaming and avoiding the same\\nRequires special meters, remote metering with open protocols and communication mechanisms to read meters timely\\nSoftware that is comprehensive to do calculations, address regulatory issues and modifications as per different Regulatory Commission requirements.\\nInterface options to various stakeholders in the ABT mechanism on line to enable effective implementation and benefits to all* Capability of power producers to be able to control their cost of production as well as flexibility in operations\\n\\n\\n',\n",
       "  'ABT drawbacks': 'As per DSM / UI procedure, the incentives and penalty to the grid participants are charged based on the average grid frequency in a time block of 15 minutes duration. During a time block, it is normal that frequency goes above rated 50 Hz frequency and comes down below rated frequency as the number of frequency excursions above 50 Hz are more than 100 in a day. Thus the average frequency in a time block remains close to the 50 Hz without giving much benefit in the applicable UI tariff for a Discom who is consuming the surplus power available in the grid or generators with valid scheduling who is reducing the generation when frequency is above 50 Hz. Similarly, the generators and Discoms who are not adhering to grid discipline are not penalised with UI tariff in excess of normal tariff when average grid frequency in a time block is used for fixing UI/DSM charges. Each time block is further needs to be separated into two parts for application of UI charges. One for the duration the frequency is more than 50 Hz whose average frequency is considered for fixing UI/ DSM charges to consume the excess power in the grid or reduce excess power generation. Another for the duration the frequency is less than 50 Hz whose average frequency is considered for fixing UI/DSM charges to reduce over drawl and encourage additional power generation.\\nWhenever distribution feeders from a substation are switched on after a break down or scheduled power cut, it should be done only when grid frequency is above 50 Hz such that it does not lead to steep drop in the frequency . The total numbers of feeders switching on, in a day are substantial at national level to cause load (≥ 500 MW) increase on the grid to cause wide fluctuations.\\nThe incentives and disincentives are prefixed  (annually/periodically) by the electricity regulator (CERC) for the variation in the grid frequency which may not reflect the actual situation temporally and spatially on day-to-day basis. There is a need to decide the electricity tariff by the grid participants (generators, discoms, transcos & final consumers) on day-to-day basis for achieving further fine tuning. To correct these anomalies, CERC has proposed 100% sale and purchase of power produced in day ahead market.\\nThe ABT mechanism aims to maintain grid frequency at 50 Hz but does not permit the grid participants to decide the optimum frequency within the permitted frequency band (say 49.20 to 50.80 Hz) on day-to-day basis. This is required not to impose additional load shedding/power cuts when frequency is within the safe variation limits.\\nTransmission system operator (TSO) is obliged to provide non-discriminatory transmission access to electricity generators and consumers in order to promote competition. ABT mechanism does not bring at par all the grid participants whether in private or central sector or state sector ownership.  ABT mechanism does not encourage to install the generating units at advantageous locations to offer least cost electricity to the final electricity consumers. ABT mechanism is suitable in an electricity grid suffering from perennial power shortages to prevent overdrwals but it is not suitable for the grid with surplus electricity generation with non-discriminatory responsibility. CERC regulation on ancillary services operations, are permitting only inter state power generating stations to provide these services which are discriminatory by not allowing rest of electricity generators.\\nEvery state is conducting independently load management to avoid overdrawal from other states by using mix of generation sources (ex: hydro power or peaking power plants) to adhere to their power drawal commitments on 15 minutes period basis in ABT mechanism. Thus hydro power stations are ending up to cater base load instead of peak load in non-monsoon months also (ex: Kerala, Karnataka, Telangana, HP, J&K, Uttarakhand, etc.). TSO is responsible to ensure the provision of reserves  (including spinning reserve for base load power plants by operating in frequency follow mode with upper & lower generation caps) that will allow for sudden contingencies by determining the optimal combination of generating stations and reserve providers for each grid trade bloc. The available hydro power stations in a region/grid should be used to cater peaking load only at regional/national level. Using hydro power stations to cater peak load, would improve the peaking load capability of a regional/national grid and maintain safe grid frequency and network stability. The 24 hours duration of a day should be divided into four parts only (i.e. daytime peak load period, daytime off peak load period, nighttime peak load period and nighttime off peak load period) instead of 96 number 15 minutes periods for commercially settling the power transactions to cater better to the peak load requirements within the safe frequency range.\\nMany gas turbine power stations are not operating due to perennial natural gas shortage. Recently, many DG sets (large & medium sizes) are also idling throughout the year due to better availability of grid power.  Alternatively, these power generation units can be put to use for grid reserve service either with liquid / gas fuels when there is unexpected tripping of operating power plants (five nos of 660 MW stations in a short duration) or tripping of a high voltage transmission line to prevent the grid operation below safe limit. This would also allow all the available transmission lines at their full capacity in service without the need to maintain n+1 reserve capacity for meeting any break down and thus accruing savings in high voltage transmission losses. The unified national grid stability can also be enhanced further by converting the existing back to back HVDC links into HVAC links bypassing the existing converter stations. These are Chandrapur back to back HVDC converter station, Vizag back to back HVDC converter station, Sasaram back to back HVDC converter station, Vindhyachal back to back HVDC converter station and HVDC Sileru–Barsoor link. The yearly cost of ensuring grid safety would be less than 2 paisa per Kwh for the total electricity generation in India.\\n\\n\\n',\n",
       "  'Natural gas transmission': 'The Petroleum and Natural Gas Regulatory Board (PNGRB) was created in the year 2005 to regulate downstream activities in the petroleum and natural gas sector. There is requirement of natural gas TSO also for imparting optimum use of the gas on hourly basis for meeting peak load in the electricity grid and minimize gas transport distances. The available gas should be stored up to rated pressure in the pipe grid for generating power during peak demand hours on a daily (or more) basis. The natural gas carrying capacity utilization of GAIL pipelines is not exceeding 33%. Thus available limited gas quantity is used to meet the peak electricity loads by all gas based power stations. Gas turbine power plants are operated at 32.6%  capacity factor as peaking power plants only in the US though being a surplus natural gas producer with lower price and the natural gas contributes largest portion (35.06%) of the total electricity produced. Also gas should not be transported from a power deficit region to a power surplus region by the gas grid and generated power from gas there shall not be transmitted back to the power deficit region to avoid misuse of the gas and power grid infrastructure. Natural gas TSO would also serve other sectors such as petro-chemical plants, CNG, fertilizer plants, PNG, LNG, etc. as per their hourly requirement in addition to receive gas from various types of natural gas producers and importers.Indian Gas Exchange (IGX) started online gas trading platform for physical delivery of natural gas. Initially, the company has identified Dahej, Hazira and Kakinada as delivery points and will subsequently include Dhabol, Kochi, Ennore and Mundra terminals.\\n\\n\\n',\n",
       "  'See also': '\\n\\n',\n",
       "  'References': '\\n\\n',\n",
       "  'External links': 'The Perspective Transmission Plan (2016-36) Archived 20 December 2016 at the Wayback Machine\\nSummary record of discussions at the first meeting of the grid study committee held on 22 May 2015 in CEA\\nGrid maps of southern region Archived 31 July 2021 at the Wayback Machine\\nCERC INDIA Website\\nSignificance of UI Mechanism for Power Pricing\\nIntroduction to ABT - A White Paper\\nABT Software Archived 6 July 2010 at the Wayback Machine\\nCOMPASS an Availability Based Tariff software from Engineering Consultants Group Inc\\n'},\n",
       " 'text': 'The ABT falls under electricity market mechanisms to charge and regulate power to achieve short term and long term network stability as well as incentives and dis-incentives to grid participants against deviations in committed supplies as the case may be.\\n\\n\\n\\nABT Mechanism in Electricity sector in India is adopted since the year 2000 and in a few other countries for pricing bulk power across various stakeholders. ABT concerns itself with the tariff structure for bulk power and is aimed at bringing about more responsibility and accountability in power generation and consumption through a scheme of incentives and disincentives'}"
      ]
     },
     "execution_count": 4,
     "metadata": {},
     "output_type": "execute_result"
    }
   ],
   "source": [
    "dataset.next(subset=True, chunk_sep='. ', n_chunks=2)"
   ]
  },
  {
   "cell_type": "code",
   "execution_count": 5,
   "metadata": {},
   "outputs": [
    {
     "data": {
      "text/html": [
       "<pre style=\"white-space:pre;overflow-x:auto;line-height:normal;font-family:Menlo,'DejaVu Sans Mono',consolas,'Courier New',monospace\"><span style=\"color: #800000; text-decoration-color: #800000\">╭─────────────────────────────── </span><span style=\"color: #800000; text-decoration-color: #800000; font-weight: bold\">Traceback </span><span style=\"color: #bf7f7f; text-decoration-color: #bf7f7f; font-weight: bold\">(most recent call last)</span><span style=\"color: #800000; text-decoration-color: #800000\"> ────────────────────────────────╮</span>\n",
       "<span style=\"color: #800000; text-decoration-color: #800000\">│</span> in <span style=\"color: #00ff00; text-decoration-color: #00ff00\">&lt;module&gt;</span>:<span style=\"color: #0000ff; text-decoration-color: #0000ff\">1</span>                                                                                    <span style=\"color: #800000; text-decoration-color: #800000\">│</span>\n",
       "<span style=\"color: #800000; text-decoration-color: #800000\">│</span>                                                                                                  <span style=\"color: #800000; text-decoration-color: #800000\">│</span>\n",
       "<span style=\"color: #800000; text-decoration-color: #800000\">│</span> <span style=\"color: #800000; text-decoration-color: #800000\">❱ </span>1 context = dataset.next()                                                                     <span style=\"color: #800000; text-decoration-color: #800000\">│</span>\n",
       "<span style=\"color: #800000; text-decoration-color: #800000\">│</span>   <span style=\"color: #7f7f7f; text-decoration-color: #7f7f7f\">2 </span>task = SummarizationTask(llm_pipeline=llm_pipeline, context=context)                         <span style=\"color: #800000; text-decoration-color: #800000\">│</span>\n",
       "<span style=\"color: #800000; text-decoration-color: #800000\">│</span>   <span style=\"color: #7f7f7f; text-decoration-color: #7f7f7f\">3 </span>bt.logging.info(<span style=\"color: #808000; text-decoration-color: #808000\">f'Task query: {</span>task.query<span style=\"color: #808000; text-decoration-color: #808000\">}'</span>)                                                 <span style=\"color: #800000; text-decoration-color: #800000\">│</span>\n",
       "<span style=\"color: #800000; text-decoration-color: #800000\">│</span>   <span style=\"color: #7f7f7f; text-decoration-color: #7f7f7f\">4 </span>bt.logging.info(<span style=\"color: #808000; text-decoration-color: #808000\">f'Task reference: {</span>task.reference<span style=\"color: #808000; text-decoration-color: #808000\">}'</span>)                                         <span style=\"color: #800000; text-decoration-color: #800000\">│</span>\n",
       "<span style=\"color: #800000; text-decoration-color: #800000\">│</span>                                                                                                  <span style=\"color: #800000; text-decoration-color: #800000\">│</span>\n",
       "<span style=\"color: #800000; text-decoration-color: #800000\">│</span> <span style=\"color: #bfbf7f; text-decoration-color: #bfbf7f\">/home/ubuntu/steffen/text-prompting-private/new_prototype/tasks/</span><span style=\"color: #808000; text-decoration-color: #808000; font-weight: bold\">dataset.py</span>:<span style=\"color: #0000ff; text-decoration-color: #0000ff\">243</span> in <span style=\"color: #00ff00; text-decoration-color: #00ff00\">next</span>           <span style=\"color: #800000; text-decoration-color: #800000\">│</span>\n",
       "<span style=\"color: #800000; text-decoration-color: #800000\">│</span>                                                                                                  <span style=\"color: #800000; text-decoration-color: #800000\">│</span>\n",
       "<span style=\"color: #800000; text-decoration-color: #800000\">│</span>   <span style=\"color: #7f7f7f; text-decoration-color: #7f7f7f\">240 </span><span style=\"color: #7f7f7f; text-decoration-color: #7f7f7f\">│   │   </span><span style=\"color: #0000ff; text-decoration-color: #0000ff\">elif</span> subset:                                                                       <span style=\"color: #800000; text-decoration-color: #800000\">│</span>\n",
       "<span style=\"color: #800000; text-decoration-color: #800000\">│</span>   <span style=\"color: #7f7f7f; text-decoration-color: #7f7f7f\">241 </span><span style=\"color: #7f7f7f; text-decoration-color: #7f7f7f\">│   │   │   </span>text = chunk(info[<span style=\"color: #808000; text-decoration-color: #808000\">'text'</span>], sep=chunk_sep, n_chunks=n_chunks)                   <span style=\"color: #800000; text-decoration-color: #800000\">│</span>\n",
       "<span style=\"color: #800000; text-decoration-color: #800000\">│</span>   <span style=\"color: #7f7f7f; text-decoration-color: #7f7f7f\">242 </span><span style=\"color: #7f7f7f; text-decoration-color: #7f7f7f\">│   │   </span>                                                                                   <span style=\"color: #800000; text-decoration-color: #800000\">│</span>\n",
       "<span style=\"color: #800000; text-decoration-color: #800000\">│</span> <span style=\"color: #800000; text-decoration-color: #800000\">❱ </span>243 <span style=\"color: #7f7f7f; text-decoration-color: #7f7f7f\">│   │   </span>info[<span style=\"color: #808000; text-decoration-color: #808000\">'text'</span>] = text                                                                <span style=\"color: #800000; text-decoration-color: #800000\">│</span>\n",
       "<span style=\"color: #800000; text-decoration-color: #800000\">│</span>   <span style=\"color: #7f7f7f; text-decoration-color: #7f7f7f\">244 </span><span style=\"color: #7f7f7f; text-decoration-color: #7f7f7f\">│   │   </span><span style=\"color: #0000ff; text-decoration-color: #0000ff\">return</span> info                                                                        <span style=\"color: #800000; text-decoration-color: #800000\">│</span>\n",
       "<span style=\"color: #800000; text-decoration-color: #800000\">│</span>   <span style=\"color: #7f7f7f; text-decoration-color: #7f7f7f\">245 </span>                                                                                           <span style=\"color: #800000; text-decoration-color: #800000\">│</span>\n",
       "<span style=\"color: #800000; text-decoration-color: #800000\">│</span>   <span style=\"color: #7f7f7f; text-decoration-color: #7f7f7f\">246 </span>                                                                                           <span style=\"color: #800000; text-decoration-color: #800000\">│</span>\n",
       "<span style=\"color: #800000; text-decoration-color: #800000\">╰──────────────────────────────────────────────────────────────────────────────────────────────────╯</span>\n",
       "<span style=\"color: #ff0000; text-decoration-color: #ff0000; font-weight: bold\">UnboundLocalError: </span>local variable <span style=\"color: #008000; text-decoration-color: #008000\">'text'</span> referenced before assignment\n",
       "</pre>\n"
      ],
      "text/plain": [
       "\u001b[31m╭─\u001b[0m\u001b[31m──────────────────────────────\u001b[0m\u001b[31m \u001b[0m\u001b[1;31mTraceback \u001b[0m\u001b[1;2;31m(most recent call last)\u001b[0m\u001b[31m \u001b[0m\u001b[31m───────────────────────────────\u001b[0m\u001b[31m─╮\u001b[0m\n",
       "\u001b[31m│\u001b[0m in \u001b[92m<module>\u001b[0m:\u001b[94m1\u001b[0m                                                                                    \u001b[31m│\u001b[0m\n",
       "\u001b[31m│\u001b[0m                                                                                                  \u001b[31m│\u001b[0m\n",
       "\u001b[31m│\u001b[0m \u001b[31m❱ \u001b[0m1 context = dataset.next()                                                                     \u001b[31m│\u001b[0m\n",
       "\u001b[31m│\u001b[0m   \u001b[2m2 \u001b[0mtask = SummarizationTask(llm_pipeline=llm_pipeline, context=context)                         \u001b[31m│\u001b[0m\n",
       "\u001b[31m│\u001b[0m   \u001b[2m3 \u001b[0mbt.logging.info(\u001b[33mf\u001b[0m\u001b[33m'\u001b[0m\u001b[33mTask query: \u001b[0m\u001b[33m{\u001b[0mtask.query\u001b[33m}\u001b[0m\u001b[33m'\u001b[0m)                                                 \u001b[31m│\u001b[0m\n",
       "\u001b[31m│\u001b[0m   \u001b[2m4 \u001b[0mbt.logging.info(\u001b[33mf\u001b[0m\u001b[33m'\u001b[0m\u001b[33mTask reference: \u001b[0m\u001b[33m{\u001b[0mtask.reference\u001b[33m}\u001b[0m\u001b[33m'\u001b[0m)                                         \u001b[31m│\u001b[0m\n",
       "\u001b[31m│\u001b[0m                                                                                                  \u001b[31m│\u001b[0m\n",
       "\u001b[31m│\u001b[0m \u001b[2;33m/home/ubuntu/steffen/text-prompting-private/new_prototype/tasks/\u001b[0m\u001b[1;33mdataset.py\u001b[0m:\u001b[94m243\u001b[0m in \u001b[92mnext\u001b[0m           \u001b[31m│\u001b[0m\n",
       "\u001b[31m│\u001b[0m                                                                                                  \u001b[31m│\u001b[0m\n",
       "\u001b[31m│\u001b[0m   \u001b[2m240 \u001b[0m\u001b[2m│   │   \u001b[0m\u001b[94melif\u001b[0m subset:                                                                       \u001b[31m│\u001b[0m\n",
       "\u001b[31m│\u001b[0m   \u001b[2m241 \u001b[0m\u001b[2m│   │   │   \u001b[0mtext = chunk(info[\u001b[33m'\u001b[0m\u001b[33mtext\u001b[0m\u001b[33m'\u001b[0m], sep=chunk_sep, n_chunks=n_chunks)                   \u001b[31m│\u001b[0m\n",
       "\u001b[31m│\u001b[0m   \u001b[2m242 \u001b[0m\u001b[2m│   │   \u001b[0m                                                                                   \u001b[31m│\u001b[0m\n",
       "\u001b[31m│\u001b[0m \u001b[31m❱ \u001b[0m243 \u001b[2m│   │   \u001b[0minfo[\u001b[33m'\u001b[0m\u001b[33mtext\u001b[0m\u001b[33m'\u001b[0m] = text                                                                \u001b[31m│\u001b[0m\n",
       "\u001b[31m│\u001b[0m   \u001b[2m244 \u001b[0m\u001b[2m│   │   \u001b[0m\u001b[94mreturn\u001b[0m info                                                                        \u001b[31m│\u001b[0m\n",
       "\u001b[31m│\u001b[0m   \u001b[2m245 \u001b[0m                                                                                           \u001b[31m│\u001b[0m\n",
       "\u001b[31m│\u001b[0m   \u001b[2m246 \u001b[0m                                                                                           \u001b[31m│\u001b[0m\n",
       "\u001b[31m╰──────────────────────────────────────────────────────────────────────────────────────────────────╯\u001b[0m\n",
       "\u001b[1;91mUnboundLocalError: \u001b[0mlocal variable \u001b[32m'text'\u001b[0m referenced before assignment\n"
      ]
     },
     "metadata": {},
     "output_type": "display_data"
    }
   ],
   "source": [
    "context = dataset.next()\n",
    "task = SummarizationTask(llm_pipeline=llm_pipeline, context=context)\n",
    "bt.logging.info(f'Task query: {task.query}')\n",
    "bt.logging.info(f'Task reference: {task.reference}')\n",
    "\n",
    "task"
   ]
  },
  {
   "cell_type": "code",
   "execution_count": 6,
   "metadata": {},
   "outputs": [
    {
     "data": {
      "text/html": [
       "<pre style=\"white-space:pre;overflow-x:auto;line-height:normal;font-family:Menlo,'DejaVu Sans Mono',consolas,'Courier New',monospace\"><span style=\"color: #800000; text-decoration-color: #800000\">╭─────────────────────────────── </span><span style=\"color: #800000; text-decoration-color: #800000; font-weight: bold\">Traceback </span><span style=\"color: #bf7f7f; text-decoration-color: #bf7f7f; font-weight: bold\">(most recent call last)</span><span style=\"color: #800000; text-decoration-color: #800000\"> ────────────────────────────────╮</span>\n",
       "<span style=\"color: #800000; text-decoration-color: #800000\">│</span> in <span style=\"color: #00ff00; text-decoration-color: #00ff00\">&lt;module&gt;</span>:<span style=\"color: #0000ff; text-decoration-color: #0000ff\">1</span>                                                                                    <span style=\"color: #800000; text-decoration-color: #800000\">│</span>\n",
       "<span style=\"color: #800000; text-decoration-color: #800000\">│</span>                                                                                                  <span style=\"color: #800000; text-decoration-color: #800000\">│</span>\n",
       "<span style=\"color: #800000; text-decoration-color: #800000\">│</span> <span style=\"color: #800000; text-decoration-color: #800000\">❱ </span>1 make_agent(task, llm_pipeline)                                                               <span style=\"color: #800000; text-decoration-color: #800000\">│</span>\n",
       "<span style=\"color: #800000; text-decoration-color: #800000\">│</span>   <span style=\"color: #7f7f7f; text-decoration-color: #7f7f7f\">2 </span>                                                                                             <span style=\"color: #800000; text-decoration-color: #800000\">│</span>\n",
       "<span style=\"color: #800000; text-decoration-color: #800000\">╰──────────────────────────────────────────────────────────────────────────────────────────────────╯</span>\n",
       "<span style=\"color: #ff0000; text-decoration-color: #ff0000; font-weight: bold\">NameError: </span>name <span style=\"color: #008000; text-decoration-color: #008000\">'task'</span> is not defined\n",
       "</pre>\n"
      ],
      "text/plain": [
       "\u001b[31m╭─\u001b[0m\u001b[31m──────────────────────────────\u001b[0m\u001b[31m \u001b[0m\u001b[1;31mTraceback \u001b[0m\u001b[1;2;31m(most recent call last)\u001b[0m\u001b[31m \u001b[0m\u001b[31m───────────────────────────────\u001b[0m\u001b[31m─╮\u001b[0m\n",
       "\u001b[31m│\u001b[0m in \u001b[92m<module>\u001b[0m:\u001b[94m1\u001b[0m                                                                                    \u001b[31m│\u001b[0m\n",
       "\u001b[31m│\u001b[0m                                                                                                  \u001b[31m│\u001b[0m\n",
       "\u001b[31m│\u001b[0m \u001b[31m❱ \u001b[0m1 make_agent(task, llm_pipeline)                                                               \u001b[31m│\u001b[0m\n",
       "\u001b[31m│\u001b[0m   \u001b[2m2 \u001b[0m                                                                                             \u001b[31m│\u001b[0m\n",
       "\u001b[31m╰──────────────────────────────────────────────────────────────────────────────────────────────────╯\u001b[0m\n",
       "\u001b[1;91mNameError: \u001b[0mname \u001b[32m'task'\u001b[0m is not defined\n"
      ]
     },
     "metadata": {},
     "output_type": "display_data"
    }
   ],
   "source": [
    "make_agent(task, llm_pipeline)"
   ]
  },
  {
   "cell_type": "code",
   "execution_count": 7,
   "metadata": {},
   "outputs": [
    {
     "name": "stdout",
     "output_type": "stream",
     "text": [
      "\u001b[34m2024-01-08 04:43:52.787\u001b[0m | \u001b[1m      INFO      \u001b[0m | Choosing 5 chunks starting at index 1.\n",
      "\u001b[34m2024-01-08 04:43:52.787\u001b[0m | \u001b[1m      INFO      \u001b[0m | 🤖 Generating query...         \n"
     ]
    },
    {
     "name": "stderr",
     "output_type": "stream",
     "text": [
      "/home/ubuntu/steffen/text-prompting-private/env/lib/python3.8/site-packages/transformers/generation/utils.py:1473: UserWarning: You have modified the pretrained model configuration to control generation. This is a deprecated strategy to control generation and will be removed soon, in a future version. Please use and modify the model generation configuration (see https://huggingface.co/docs/transformers/generation_strategies#default-text-generation-configuration )\n",
      "  warnings.warn(\n"
     ]
    },
    {
     "name": "stdout",
     "output_type": "stream",
     "text": [
      "\u001b[34m2024-01-08 04:43:54.546\u001b[0m | \u001b[1m      INFO      \u001b[0m | 🤖 Generating reference...     \n",
      "\u001b[34m2024-01-08 04:44:02.100\u001b[0m | \u001b[1m      INFO      \u001b[0m | Task query: #Question:\n",
      "In Inazuma Eleven GO 2: Chrono Stone, how does the concept of time travel play a role in the story, and how does it impact the gameplay?\n"
     ]
    },
    {
     "data": {
      "text/plain": [
       "QuestionAnsweringTask(desc='get help on answering a question', goal='to get the answer to the following question', query='#Question:\\nIn Inazuma Eleven GO 2: Chrono Stone, how does the concept of time travel play a role in the story, and how does it impact the gameplay?', topic='Inazuma Eleven GO (video game)', subtopic='2011 video games', tags=['2011 video games', 'Association football video games', 'S1 Japanese-language sources (ja)', 'mmunism in fiction', 'Inazuma Eleven video games', 'Level-5 (company) games', 'Nintendo 3DS-only games', 'Nintendo 3DS eShop games', 'Nintendo 3DS games', 'Nintendo games', 'Role-playing video games', 'Short description is different from Wikid', 'Short description matches Wikid', 'Video games developed in Japan', 'Video games with alternative versions'], reward_types=['SIMILARITY_STACK'], reward_threshold=0.5, reference=\"In Inazuma Eleven GO 2: Chrono Stone, the concept of time travel is introduced as a major plot element. The story follows the protagonist, Arion Sherwind, as he travels back in time to prevent a catastrophic event that threatens the future of soccer. Arion is aided by his childhood friend, Tenma Matsukaze, who also happens to be the main character from the previous game, Inazuma Eleven GO.\\n\\nAs Arion and Tenma travel through time, they encounter various versions of their friends from Raimon High School and the Inazuma Japan National Team. Some of these versions have been altered by the events of the future, causing them to have different personalities and abilities. Arion and Tenma must work together to set things right and ensure that history unfolds as it should.\\n\\nThe concept of time travel has a significant impact on the gameplay of Inazuma Eleven GO 2: Chrono Stone. Players can travel back in time to replay certain matches and change the outcome, which affects the course of the story. The game's time travel mechanic also introduces new challenges and obstacles, such as encountering stronger versions of enemy\", criteria=('',), delimiter='', complete=False)"
      ]
     },
     "execution_count": 7,
     "metadata": {},
     "output_type": "execute_result"
    },
    {
     "name": "stdout",
     "output_type": "stream",
     "text": [
      "\u001b[34m2024-01-08 04:44:02.101\u001b[0m | \u001b[1m      INFO      \u001b[0m | Task reference: In Inazuma Eleven GO 2: Chrono Stone, the concept of time travel is introduced as a major plot element. The story follows the protagonist, Arion Sherwind, as he travels back in time to prevent a catastrophic event that threatens the future of soccer. Arion is aided by his childhood friend, Tenma Matsukaze, who also happens to be the main character from the previous game, Inazuma Eleven GO.\n",
      "\n",
      "As Arion and Tenma travel through time, they encounter various versions of their friends from Raimon High School and the Inazuma Japan National Team. Some of these versions have been altered by the events of the future, causing them to have different personalities and abilities. Arion and Tenma must work together to set things right and ensure that history unfolds as it should.\n",
      "\n",
      "The concept of time travel has a significant impact on the gameplay of Inazuma Eleven GO 2: Chrono Stone. Players can travel back in time to replay certain matches and change the outcome, which affects the course of the story. The game's time travel mechanic also introduces new challenges and obstacles, such as encountering stronger versions of enemy\n"
     ]
    }
   ],
   "source": [
    "context = dataset.next(subset=True, chunk_sep='\\n', n_chunks=5)\n",
    "task = QuestionAnsweringTask(llm_pipeline=llm_pipeline, context=context)\n",
    "bt.logging.info(f'Task query: {task.query}')\n",
    "bt.logging.info(f'Task reference: {task.reference}')\n",
    "\n",
    "task"
   ]
  },
  {
   "cell_type": "code",
   "execution_count": 8,
   "metadata": {},
   "outputs": [
    {
     "name": "stdout",
     "output_type": "stream",
     "text": [
      "\u001b[34m2024-01-08 04:44:02.112\u001b[0m | \u001b[1m      INFO      \u001b[0m | Creating agent...             \n",
      "\u001b[34m2024-01-08 04:44:02.113\u001b[0m | \u001b[1m      INFO      \u001b[0m | 🤖 Generating challenge query...\n",
      "Cleaning up response: Assistant: \"In Inazuma Eleven GO 2: Chrono Stone, can you explain how the time travel mechanism works and how it allows players to manipulate the game's narrative and gameplay elements?\"\n",
      "\u001b[34m2024-01-08 04:44:03.481\u001b[0m | \u001b[1m      INFO      \u001b[0m | Agent created with persona: Persona(profile='scientist', mood='an impatient', tone='indifferent')\n"
     ]
    },
    {
     "data": {
      "text/plain": [
       "This is a roleplaying game where you are impersonating an impatient human user. As a human, you are using AI assistant to get help on answering a question related to Inazuma Eleven GO (video game) (2011 video games) in a indifferent tone.\n",
       "\n",
       "        Your singular focus is to use the assistant to to get the answer to the following question: #Question:\n",
       "In Inazuma Eleven GO 2: Chrono Stone, how does the concept of time travel play a role in the story, and how does it impact the gameplay?"
      ]
     },
     "execution_count": 8,
     "metadata": {},
     "output_type": "execute_result"
    },
    {
     "name": "stdout",
     "output_type": "stream",
     "text": [
      "\u001b[34m2024-01-08 04:44:03.482\u001b[0m | \u001b[1m      INFO      \u001b[0m | Agent challenge:  \"In Inazuma Eleven GO 2: Chrono Stone, can you explain how the time travel mechanism works and how it allows players to manipulate the game's narrative and gameplay elements?\"\n"
     ]
    }
   ],
   "source": [
    "make_agent(task, llm_pipeline)"
   ]
  },
  {
   "cell_type": "code",
   "execution_count": 9,
   "metadata": {},
   "outputs": [],
   "source": [
    "coding_dataset = CodingDataset(languages=['Python'])\n"
   ]
  },
  {
   "cell_type": "code",
   "execution_count": 10,
   "metadata": {},
   "outputs": [
    {
     "data": {
      "text/plain": [
       "{'code': \"from django.apps import AppConfig\\n\\n\\nclass UsermessagesConfig(AppConfig):\\n    name = 'usermessages'\\n\",\n",
       " 'repo_name': 'mikaicebe/xxwctreehole',\n",
       " 'path': 'nw/wctreehole/usermessages/apps.py',\n",
       " 'language': 'Python',\n",
       " 'license': 'mit',\n",
       " 'size': 99}"
      ]
     },
     "execution_count": 10,
     "metadata": {},
     "output_type": "execute_result"
    }
   ],
   "source": [
    "\n",
    "context = coding_dataset.next()\n",
    "context\n"
   ]
  },
  {
   "cell_type": "code",
   "execution_count": 11,
   "metadata": {},
   "outputs": [
    {
     "name": "stdout",
     "output_type": "stream",
     "text": [
      "\u001b[34m2024-01-08 04:44:59.416\u001b[0m | \u001b[1m      INFO      \u001b[0m | Removing the following 1 chunks: ['s'] at indices [49]\n",
      "\u001b[34m2024-01-08 04:44:59.416\u001b[0m | \u001b[1m      INFO      \u001b[0m | Swapping chunk '\\n' at index 97 with chunk 'C' at index 53\n"
     ]
    },
    {
     "data": {
      "text/plain": [
       "DebuggingTask(desc='get help with debugging', goal='ask for help fixing the broken piece of code', query=\"from django.apps import AppConfig\\n\\n\\nclass Usermesages\\nonfig(AppConfig):\\n    name = 'usermessages'C\", topic='mikaicebe/xxwctreehole', subtopic='nw/wctreehole/usermessages/apps.py', tags='Python', reward_types=['SIMILARITY_STACK'], reward_threshold=0.5, reference=\"from django.apps import AppConfig\\n\\n\\nclass UsermessagesConfig(AppConfig):\\n    name = 'usermessages'\\n\", criteria=('',), delimiter='', complete=False)"
      ]
     },
     "execution_count": 11,
     "metadata": {},
     "output_type": "execute_result"
    }
   ],
   "source": [
    "\n",
    "db_task = DebuggingTask(llm_pipeline=llm_pipeline, context=context)\n",
    "db_task"
   ]
  },
  {
   "cell_type": "code",
   "execution_count": 12,
   "metadata": {},
   "outputs": [
    {
     "name": "stdout",
     "output_type": "stream",
     "text": [
      "from django.apps import AppConfig\n",
      "\n",
      "\n",
      "class UsermessagesConfig(AppConfig):\n",
      "    name = 'usermessages'\n",
      "\n"
     ]
    }
   ],
   "source": [
    "print(db_task.reference)"
   ]
  },
  {
   "cell_type": "code",
   "execution_count": 13,
   "metadata": {},
   "outputs": [
    {
     "name": "stdout",
     "output_type": "stream",
     "text": [
      "from django.apps import AppConfig\n",
      "\n",
      "\n",
      "class Usermesages\n",
      "onfig(AppConfig):\n",
      "    name = 'usermessages'C\n"
     ]
    }
   ],
   "source": [
    "print(db_task.query)"
   ]
  },
  {
   "cell_type": "code",
   "execution_count": 14,
   "metadata": {},
   "outputs": [
    {
     "name": "stdout",
     "output_type": "stream",
     "text": [
      "\u001b[34m2024-01-08 04:44:59.435\u001b[0m | \u001b[1m      INFO      \u001b[0m | Creating agent...             \n",
      "\u001b[34m2024-01-08 04:44:59.435\u001b[0m | \u001b[1m      INFO      \u001b[0m | 🤖 Generating challenge query...\n",
      "\u001b[34m2024-01-08 04:45:02.033\u001b[0m | \u001b[1m      INFO      \u001b[0m | Agent created with persona: Persona(profile='student', mood='a confused', tone='unfriendly')\n",
      "\u001b[34m2024-01-08 04:45:02.033\u001b[0m | \u001b[1m      INFO      \u001b[0m | Agent challenge: How can I fix the error in the Usermessages AppConfig class in the mikaicebe/xxwctreehole repository? It seems to be causing a problem with the django.apps import AppConfig line. Please provide detailed instructions on how to resolve this issue. Your response should be in a clear and concise manner, with step-by-step guidance that a novice programmer can follow.\n"
     ]
    },
    {
     "data": {
      "text/plain": [
       "This is a roleplaying game where you are impersonating a confused human user. As a human, you are using AI assistant to get help with debugging related to mikaicebe/xxwctreehole (nw/wctreehole/usermessages/apps.py) in a unfriendly tone.\n",
       "\n",
       "        Your singular focus is to use the assistant to ask for help fixing the broken piece of code: from django.apps import AppConfig\n",
       "\n",
       "\n",
       "class Usermesages\n",
       "onfig(AppConfig):\n",
       "    name = 'usermessages'C"
      ]
     },
     "execution_count": 14,
     "metadata": {},
     "output_type": "execute_result"
    }
   ],
   "source": [
    "make_agent(db_task, llm_pipeline)"
   ]
  },
  {
   "cell_type": "code",
   "execution_count": null,
   "metadata": {},
   "outputs": [],
   "source": []
  }
 ],
 "metadata": {
  "kernelspec": {
   "display_name": "env",
   "language": "python",
   "name": "python3"
  },
  "language_info": {
   "codemirror_mode": {
    "name": "ipython",
    "version": 3
   },
   "file_extension": ".py",
   "mimetype": "text/x-python",
   "name": "python",
   "nbconvert_exporter": "python",
   "pygments_lexer": "ipython3",
   "version": "3.8.10"
  }
 },
 "nbformat": 4,
 "nbformat_minor": 2
}
