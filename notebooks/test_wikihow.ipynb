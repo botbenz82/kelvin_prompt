{
 "cells": [
  {
   "cell_type": "code",
   "execution_count": null,
   "metadata": {},
   "outputs": [],
   "source": []
  },
  {
   "cell_type": "code",
   "execution_count": 5,
   "metadata": {},
   "outputs": [
    {
     "name": "stdout",
     "output_type": "stream",
     "text": [
      "Collecting pywikihow\n",
      "  Downloading pywikihow-0.5.7.tar.gz (3.7 kB)\n",
      "Requirement already satisfied: bs4 in ./env/lib/python3.8/site-packages (from pywikihow) (0.0.1)\n",
      "Requirement already satisfied: requests in ./env/lib/python3.8/site-packages (from pywikihow) (2.31.0)\n",
      "Collecting requests-cache\n",
      "  Downloading requests_cache-1.1.1-py3-none-any.whl (60 kB)\n",
      "\u001b[K     |████████████████████████████████| 60 kB 4.3 MB/s eta 0:00:01\n",
      "\u001b[?25hRequirement already satisfied: beautifulsoup4 in ./env/lib/python3.8/site-packages (from bs4->pywikihow) (4.12.2)\n",
      "Requirement already satisfied: idna<4,>=2.5 in ./env/lib/python3.8/site-packages (from requests->pywikihow) (3.6)\n",
      "Requirement already satisfied: charset-normalizer<4,>=2 in ./env/lib/python3.8/site-packages (from requests->pywikihow) (3.3.2)\n",
      "Requirement already satisfied: certifi>=2017.4.17 in ./env/lib/python3.8/site-packages (from requests->pywikihow) (2023.11.17)\n",
      "Requirement already satisfied: urllib3<3,>=1.21.1 in ./env/lib/python3.8/site-packages (from requests->pywikihow) (2.1.0)\n",
      "Requirement already satisfied: attrs>=21.2 in ./env/lib/python3.8/site-packages (from requests-cache->pywikihow) (23.1.0)\n",
      "Collecting url-normalize>=1.4\n",
      "  Downloading url_normalize-1.4.3-py2.py3-none-any.whl (6.8 kB)\n",
      "Collecting cattrs>=22.2\n",
      "  Downloading cattrs-23.2.3-py3-none-any.whl (57 kB)\n",
      "\u001b[K     |████████████████████████████████| 57 kB 11.9 MB/s eta 0:00:01\n",
      "\u001b[?25hRequirement already satisfied: platformdirs>=2.5 in ./env/lib/python3.8/site-packages (from requests-cache->pywikihow) (4.1.0)\n",
      "Requirement already satisfied: soupsieve>1.2 in ./env/lib/python3.8/site-packages (from beautifulsoup4->bs4->pywikihow) (2.5)\n",
      "Requirement already satisfied: six in ./env/lib/python3.8/site-packages (from url-normalize>=1.4->requests-cache->pywikihow) (1.16.0)\n",
      "Requirement already satisfied: exceptiongroup>=1.1.1; python_version < \"3.11\" in ./env/lib/python3.8/site-packages (from cattrs>=22.2->requests-cache->pywikihow) (1.2.0)\n",
      "Requirement already satisfied: typing-extensions!=4.6.3,>=4.1.0; python_version < \"3.11\" in ./env/lib/python3.8/site-packages (from cattrs>=22.2->requests-cache->pywikihow) (4.8.0)\n",
      "Building wheels for collected packages: pywikihow\n",
      "  Building wheel for pywikihow (setup.py) ... \u001b[?25ldone\n",
      "\u001b[?25h  Created wheel for pywikihow: filename=pywikihow-0.5.7-py3-none-any.whl size=3655 sha256=0b0d22e6de93cfe9eb336e6413e3a8e909113d8fc250813cbb76bec75f84a769\n",
      "  Stored in directory: /home/ubuntu/.cache/pip/wheels/57/de/96/beeb4c639bd297c84344db752894703a8bf2111beb686a680e\n",
      "Successfully built pywikihow\n",
      "Installing collected packages: url-normalize, cattrs, requests-cache, pywikihow\n",
      "Successfully installed cattrs-23.2.3 pywikihow-0.5.7 requests-cache-1.1.1 url-normalize-1.4.3\n"
     ]
    }
   ],
   "source": [
    "!pip install pywikihow"
   ]
  },
  {
   "cell_type": "code",
   "execution_count": 10,
   "metadata": {},
   "outputs": [
    {
     "name": "stdout",
     "output_type": "stream",
     "text": [
      "Differentiate Between Disposable Diapers, Potty Training Pants and Bedwetting Diapers\n",
      "1 - Learn about what ages each type of disposable product is meant for.\n",
      "2 - Experiment with the colors.\n",
      "3 - Focus on absorption.\n",
      "4 - Learn about the primary uses of each disposable product.\n",
      "5 - Compare the normal use of the product to the use of the product during travel.\n",
      "6 - Focus on the primary brands.\n",
      "7 - Compare the closing methods on each.\n",
      "8 - Learn about the disposable product's universal fits over both sexes equally.\n",
      "9 - See if the product has a stretchy waistband.\n",
      "10 - Check for leak guard liners.\n",
      "11 - Learn about the presence of an interior soak zone colored pad.\n",
      "12 - Learn about the presence of a colored exterior soak zone indicator.\n",
      "13 - Watch how easy it is to identify a used disposable product.\n",
      "14 - Gather the length of time the garment is worn.\n",
      "15 - Learn the differences between the changing styles of each of these disposable products.\n",
      "16 - Learn where these disposable products can be found.\n",
      "17 - Learn why parents favor each garment.\n",
      "18 - Learn why children favor each disposable diaper/pant garment.\n",
      "19 - See why parents dislike each of these disposable products.\n",
      "20 - See why children dislike their disposable products.\n",
      "\n"
     ]
    }
   ],
   "source": [
    "from pywikihow import RandomHowTo\n",
    "\n",
    "how_to = RandomHowTo()\n",
    "how_to.print()\n"
   ]
  },
  {
   "cell_type": "code",
   "execution_count": 7,
   "metadata": {},
   "outputs": [
    {
     "name": "stdout",
     "output_type": "stream",
     "text": [
      "Grabbed random WikiHow article: https://www.wikihow.com/Sing-Using-Your-Diaphragm\n",
      "Title: How to Sing Using Your Diaphragm\n",
      "URL: https://www.wikihow.com/Sing-Using-Your-Diaphragm\n",
      "Steps:\n",
      "1. Learn to locate your diaphragm muscles.Unlike your bicep, it's hard to feel your diaphragm muscles, so it's important to learn to learn to locate them, so you can go about strengthening them for singing. While standing up straight, use your hands to find the bottom of your ribcage. Your diaphragm muscles are attached here and connect all the way around your torso.If you're having trouble feeling your diaphragm, lie flat on the floor and place a moderate weight on your stomach area, something like a large book or large pillow. Push that weight up using just the muscles in your stomach. Simultaneously draw air into your lungs to their full capacity. Now, sing. The muscles you're using are your diaphragm.[2]XResearch sourceThe best way to think about singing from your diaphragm is to think of your diaphragm muscles as a platform or tabletop. They should be firm and stable and provide a foundation for your voice to rise through your air column.\n",
      "2. Practice breathing into your diaphragm.To breathe into your diaphragm, breathe in as deeply as you can and push your stomach out as far as possible while doing so, keeping the rest of your body as still as possible. Now exhale, and pull your stomach back in. Make sure your shoulders don't move.[3]XTrustworthy SourceAmerican Lung AssociationNonprofit health organization dedicated to improving lung health through education, advocacy, and researchGo to sourceIt's imperative that these muscles you're using while breathing remain firm but not clenched when singing. Your chest, shoulder, and face muscles need to remain loose, not tight and clamped.Imagine you're a chimney, and that your singing rises through the chimney from the diaphragm out of the lungs, and through the roof.Lay on your back and put 1 hand on your belly and the other hand on your chest. Slowly inhale and feel your belly rise. Once your chest starts to rise, begin exhaling.Imagine there's a balloon in your torso behind your belly button. Try to fill the balloon as you inhale and squeeze air out of the balloon as you exhale.\n",
      "3. Do diaphragm-strengthening breathing exercises.Exercise your diaphragm muscles regularly. Once you've learned to breathe correctly, you need to get as much power into your diaphragm as possible. Take a deep breath from your diaphragm, and while exhaling, count as high as possible. Count slowly and evenly, then record how much you've improved every day.[4]XResearch sourcePractice a \"milkshake.\" Pretend you're sucking in through a straw. Remember to keep your shoulders and chest still. Hold your hand on your stomach to notice the movement.[5]XResearch sourceDo \"dog pants.\" Pant as if you're a tired dog, but again remember to keep your shoulders and chest still, and again hold your hand on your stomach.Practice a \"bathroom push\" exercise. As ridiculous as it sounds, it really does help when learning to sing using your diaphragm. Keeping your shoulders and chest still, let out a hard breath as if you're struggling on the toilet. Hold your hand on your stomach.Inhale deeply, then exhale through a coffee straw. The resistance from the small straw is similar to air passing through your vocal folds while your singing.\n",
      "4. Practice breathing exercises along with your singing.If you want to strengthen your diaphragm for singing, you need to incorporate these breathing exercises into your regular singing routine, as well as practicing breathing several times throughout the day. You can do it anywhere, at any time, relatively easily, since you don't need any special equipment or other materials. You just need your voice.[6]XResearch sourcePractice breathing exercises while you're driving to work or while you're watching television. There's little excuse to avoid practicing something so easy. And you'll start noticing results in your singing quickly with the right dedication to practice.\n",
      "5. Sing a song on a lip trill.As you're learning to sing from your diaphragm, try singing a song on pitch while blowing air out from between closed lips. This exercise will ensure you use plenty of air while keeping your vocal cords relaxed.To see an example of how to lip trill while varying the pitch and volume, check out this video of Celine Dion:https://www.youtube.com/watch?v=1NFz2Ff6ZlM.\n",
      "6. Warm up before singing.Breathing and vocal exercises are essential in warming up your voice before singing. Singing from your diaphragm is just one part of proper singing technique, and needs to be combined with other good practices. Anytime before you start singing for a long period of time, you should:[7]XResearch sourceTake a long, deep breath and hold it for a few seconds then release it slowly. As you breathe in, raise your arms until your hands touch each other. Then put your arms down slowly while you breathe out. Do these 3-5 times.Start with the lowest note that you can sing and start getting higher until you reach the highest note you can sing, without straining. Don't rush. The slower, the better. This exercise helps to control your breathing and warm up your vocal cords for singing.\n",
      "7. Stand with excellent posture while singing.When singing with your diaphragm, you are taking larger, fuller breaths. Doing this requires perfect posture. Keep your back very straight, your shoulders rolled back, and focus on keeping them still as you breathe to give your voice and your breath the best space possible.Because your diaphragm is right below your rib cage, which encompasses your lungs, slouching pushes your ribs into your lungs and doesn't allow for the downward expansion necessary to get a good breath.If you're tense while maintaining the correct posture, let gravity help you out. Stand against a wall so the back of your head, shoulders, and bottom rest against the wall. Notice how free your diaphragm feels while you're singing![8]XResearch source\n",
      "8. Sing with your throat open.Look in a mirror while you force a yawn, looking and feeling the openness in your throat. This needs to happen while you sing, but as relaxed and loose as possible. To allow the air to flow more freely and naturally from your diaphragm through your body, you need to practice singing with an open throat.Pretend you've got a marshmallow the size of a baseball in your throat that's stretching it open. Practice singing runs of notes while your throat is open. It might take a while to get the notes as strong as you're used to, but it's an important part of retraining your voice to stay strong.\n",
      "9. Work on both \"parts\" of your voice.Think about your voice as if it is broken into two separate, but linked parts. Your high notes are in what is called your head voice and your low notes are in your chest voice. When you sing low notes, try not to sing as loud as you sing high notes, because this may result in your note being higher that it is supposed to be. To make full, rounded sound in each of your voices requires singing from the diaphragm, but learning to distinguish these two voices and move between them will help with note placement.Use your breathing exercises regularly to get used to the sensation of moving between your two voices. Try singing intervals to jump back and forth between the two different voices and strengthen your transitions.\n",
      "10. Work on pronouncing consonants.Hard consonants often become inaudible when singing. Try repeating a consonant phrase like \"The tip of the tongue and the teeth and the lips.\" Sing the phrase over and over on a single note, until every word can be sung clearly with full breath support from your diaphragm.\n"
     ]
    }
   ],
   "source": [
    "import requests\n",
    "from bs4 import BeautifulSoup\n",
    "\n",
    "# TODO: Make sure I don't go to prison for this\n",
    "# https://www.wikihow.com/wikiHow:Terms-of-Use\n",
    "\n",
    "\n",
    "def get_random_wikihow_page():\n",
    "    # WikiHow random article URL\n",
    "    url = 'https://www.wikihow.com/Special:Randomizer'\n",
    "\n",
    "    try:\n",
    "        response = requests.get(url)\n",
    "        response.raise_for_status()  # will raise an HTTPError if the HTTP request returned an unsuccessful status code\n",
    "\n",
    "        article_url = response.url\n",
    "        print(f'Grabbed random WikiHow article: {article_url}')\n",
    "\n",
    "        # Parse the page\n",
    "        soup = BeautifulSoup(response.content, 'html.parser')\n",
    "\n",
    "        # Find the title and URL of the random article\n",
    "        title = soup.find('h1').get_text(strip=True)\n",
    "\n",
    "        # Find the steps of the guide\n",
    "        steps = []\n",
    "        for step in soup.find_all('div', class_='step'):\n",
    "            step_text = step.get_text(strip=True)\n",
    "            steps.append(step_text)\n",
    "\n",
    "        return title, article_url, steps\n",
    "    except requests.HTTPError as http_err:\n",
    "        print(f'HTTP error occurred: {http_err}')\n",
    "        return None\n",
    "    except Exception as err:\n",
    "        print(f'An error occurred: {err}')\n",
    "        return None\n",
    "result = get_random_wikihow_page()\n",
    "\n",
    "if result:\n",
    "    title, url, steps = result\n",
    "    print(f\"Title: {title}\\nURL: {url}\\nSteps:\")\n",
    "    for i, step in enumerate(steps, start=1):\n",
    "        print(f'{i}. {step}')\n",
    "\n",
    "\n",
    "# soup = get_random_wikihow_page()\n",
    "# soup"
   ]
  },
  {
   "cell_type": "code",
   "execution_count": null,
   "metadata": {},
   "outputs": [],
   "source": []
  }
 ],
 "metadata": {
  "kernelspec": {
   "display_name": "env",
   "language": "python",
   "name": "python3"
  },
  "language_info": {
   "codemirror_mode": {
    "name": "ipython",
    "version": 3
   },
   "file_extension": ".py",
   "mimetype": "text/x-python",
   "name": "python",
   "nbconvert_exporter": "python",
   "pygments_lexer": "ipython3",
   "version": "3.8.10"
  }
 },
 "nbformat": 4,
 "nbformat_minor": 2
}
