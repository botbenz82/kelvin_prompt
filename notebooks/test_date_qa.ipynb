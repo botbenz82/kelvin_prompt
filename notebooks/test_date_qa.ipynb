{
 "cells": [
  {
   "cell_type": "markdown",
   "metadata": {},
   "source": [
    "# Date based Question Answering\n",
    "Below is an example of how we can create novel questions and answers based on the date of famous events using wikipedia. \n",
    "\n",
    "> Retrieving https://en.wikipedia.org/wiki/January_01...\n",
    "\n",
    "> Random Date: January 01\n",
    "\n",
    "> Event: 1502 – The present-day location of Rio de Janeiro, Brazil, is first explored by the Portuguese.[13]\n",
    "\n",
    "------\n",
    "The **query** is based the event, e.g \n",
    "\n",
    "> \"On what date was the present-day location of Rio de Janeiro, Brazil, first explored by the Portuguese?\"\n",
    "\n",
    "or simpler still\n",
    "\n",
    "> \"The present-day location of Rio de Janeiro, Brazil, is first explored by the Portuguese on what date?\"\n",
    "\n",
    "On the other hand the **challenge** should dress this up some more, e.g.\n",
    "\n",
    "> \"What date did the Portuguese first explore the present-day location of Rio de Janeiro, Brazil? Help me out here I'm trying to win a bet with my friend.\"\n",
    "\n",
    "----\n",
    "The reference can be simply the date.\n",
    "\n",
    "> \"January 01 1502\"\n",
    "\n"
   ]
  },
  {
   "cell_type": "code",
   "execution_count": 56,
   "metadata": {},
   "outputs": [
    {
     "name": "stdout",
     "output_type": "stream",
     "text": [
      "Retrieving https://en.wikipedia.org/wiki/August_21...\n",
      "Available sections: Events, Births, Deaths\n",
      "Extracting a random item from the \"Births\" section...\n",
      "Section Births has 7 events.\n",
      "Date contains the following 2 links: ['1481', 'Jorge de Lencastre, Duke of Coimbra']\n",
      "Random Date: August 21\n",
      "Event: 1481 – Jorge de Lencastre, Duke of Coimbra (d. 1550)\n",
      "Link: Jorge de Lencastre, Duke of Coimbra\n"
     ]
    }
   ],
   "source": [
    "import random\n",
    "import datetime\n",
    "import requests\n",
    "from bs4 import BeautifulSoup\n",
    "from tasks.dataset import WikiDataset\n",
    "\n",
    "# Step 1: Generate a random date\n",
    "year = 2000\n",
    "month = random.randint(1, 12)\n",
    "day = random.randint(1, 28)  # Simplified to avoid dealing with different month lengths\n",
    "random_date = datetime.date(year, month, day)\n",
    "\n",
    "# Step 2: Format the date for Wikipedia URL\n",
    "formatted_date = random_date.strftime(\"%B_%d\")  # E.g., \"January_01\"\n",
    "\n",
    "# Step 3: Scrape Wikipedia\n",
    "url = f\"https://en.wikipedia.org/wiki/{formatted_date}\"\n",
    "print(f\"Retrieving {url}...\")\n",
    "response = requests.get(url)\n",
    "events = []\n",
    "\n",
    "if response.status_code == 200:\n",
    "    soup = BeautifulSoup(response.content, 'html.parser')\n",
    "    \n",
    "    available_sections = []\n",
    "    for name in ['Events', 'Births', 'Deaths']:\n",
    "        section = soup.find('span', id=name)\n",
    "        if section:\n",
    "            available_sections.append(name)\n",
    "    print(f\"Available sections: {', '.join(available_sections)}\")\n",
    "    section = random.choice(available_sections)\n",
    "    # Find the events section\n",
    "    print(f'Extracting a random item from the \"{section}\" section...')\n",
    "    events_list = soup.find('span', id=section).parent.find_next_sibling('ul')\n",
    "    \n",
    "    for li in events_list.find_all('li'):\n",
    "        events.append(li)\n",
    "    print(f'Section {section} has {len(events)} events.')\n",
    "\n",
    "    # Step 4: Extract Event Information and Step 5: Select an Event\n",
    "    if events:\n",
    "        selected_event = random.choice(events)\n",
    "        links = selected_event.find_all('a')\n",
    "        link_titles = [link.get(\"title\") for link in links]\n",
    "        print(f'Date contains the following {len(links)} links: {link_titles}')\n",
    "        if links:\n",
    "            link = random.choice(links)\n",
    "        print(f\"Random Date: {random_date.strftime('%B %d')}\")\n",
    "        print(f\"Event: {selected_event.get_text()}\")\n",
    "        print(f\"Link: {link['title']}\")\n",
    "    else:\n",
    "        print(\"No events found for this date.\")\n",
    "else:\n",
    "    print(\"Failed to retrieve data from Wikipedia.\")\n",
    "\n",
    "\n",
    "WikiDataset().get_wikipedia_article_content(link['title'])"
   ]
  },
  {
   "cell_type": "code",
   "execution_count": 57,
   "metadata": {},
   "outputs": [
    {
     "data": {
      "text/plain": [
       "{None: 'Jorge de Lencastre (English: George; 21 August 1481 – 22 July 1550) was a Portuguese prince, illegitimate son of King John II of Portugal and Ana de Mendonça, a lady-in-waiting to Joanna la Beltraneja.  He was created the second Duke of Coimbra in 1509. He was also master of the Order of Santiago and administrator of the Order of Aviz from 1492 to 1550.\\n\\n\\n',\n",
       " 'Early life': \"Jorge de Lencastre was born in Abrantes on 21 August 1481 and raised by his aunt, the king's sister, Joan of Portugal, in the Convent of Jesus in Aveiro.  On Joan's death in 1490, Jorge was brought to the royal court, and was soon placed under the tutorship of monteiro-mor Diogo Fernandes de Almeida (the son of John II's late ally, Lopo de Almeida, Count of Abrantes).\\n\\n\\n\",\n",
       " 'Succession Campaign': \"After the death of the royal heir Prince Afonso in July 1491, King John II was left with no legitimate sons and no daughters he could marry off.  The next legitimate successor to the throne was his cousin (and brother-in-law), Manuel, 4th Duke of Beja and grand master of the Order of Christ since 1484.\\nThis was a disturbing prospect for John II, who trusted neither Manuel nor the powerful Order of Christ.  During the purges of the high nobility in 1483–84, John II had ordered the execution of Manuel's own brother Diogo, Duke of Viseu and brother-in-law Fernando II, Duke of Braganza. Manuel himself only escaped a similar fate largely because John II regarded him as a harmless fool.  Now that 'fool' stood to succeed him, and in John II's estimation, would likely undo all the king's hard-won centralizing reforms and deliver the kingdom back to the nobles.\\nJohn II consequently launched a campaign to make his natural son, Jorge de Lencastre, his heir.  From Pope Innocent VIII, John II received authorization to appoint Jorge as Grand-Master of the Order of Santiago and administrator of the Order of Aviz, in April 1492.  Only a few days later, Jorge's tutor, Diogo Fernandes de Almeida was appointed Prior of Crato (head of the Portuguese branch of the knights of St. John Hospitaller).\\nMeanwhile, Queen Eleanor set about knitting a rival campaign, in conjunction with the Order of Christ, to prevent Jorge's advancement and protect the position of Manuel (her brother) as heir.\\nIn 1494, John II dispatched an embassy to Rome, headed by two members of the Almeida clan, to petition Pope Alexander VI to legitimize Jorge de Lencastre. The petition was rejected, bringing the campaign to a disappointing end.\\nJohn II, however, had no intention of just handing the kingdom over to Manuel's minions. In the will laid out just before his death in 1495, John II requested that Manuel appoint Jorge de Lencastre as Duke of Coimbra and Lord of Montemor-o-Velho and urged Manuel, on his accession, to pass all his other titles and possessions, including the mastership of the Order of Christ and the island of Madeira, over to Jorge.  The concentration of power would have made Jorge de Lencastre the most powerful man in the kingdom, reminiscent of his powerful great-grand-uncle Peter of Coimbra (a comparison suggested by John II himself).\\nMindful of avoiding a civil war, Manuel agreed to many of the items in John II's will, but rejected others — notably, Manuel insisted on retaining the Order of Christ for himself. Manuel was not in a hurry to fulfill the rest of the terms.  The title of Duke of Coimbra was conferred on Jorge de Lencastre only in May 1500, and confirmation was delayed until May 1509, nearly fifteen years after his father's death.\\nJohn II had also requested that young Jorge de Lencastre would be married to a royal princess, having Manuel promise his own first daughter, when they came of age.  Manuel only partly fulfilled this in 1500 by betrothing Jorge to Beatriz de Vilhena, the daughter of Álvaro of Braganza, not an infanta but nonetheless a princess of royal blood.\\n\\n\\n\",\n",
       " \"During Manuel's Reign\": 'Most of the details of Jorge\\'s subsequent life and career are marred by hagiographers of Manuel, eager to portray the king\\'s rival in the worst possible light.  But far from the lazy and dissolute picture painted by the royal scribes, the chroniclers of the Order of Santiago seem to have regarded Jorge de Lencastre as a particularly diligent leader and administrator.\\nThe Duke continued as an important figure in Portuguese politics, particularly in the first decade or so of Manuel\\'s reign. The Order of Santiago was Jorge\\'s principal power base. Jorge established something akin to an \\'opposition\\' court at the Order\\'s headquarters in Palmela. He gathered around him the principal loyalists of John II, who now became political opponents of King Manuel I of Portugal, notably the Almeida clan, the Ataíde family, and, of course, his mother\\'s own family — notably, his uncle, António de Mendonça Furtado, a commendador of the Order of Aviz. Other opposition characters gathered around Jorge included Álvaro de Castro and Diogo Lopo da Silveira (Baron of Alvito), and notable India navigators Vasco da Gama and Francisco de Almeida. Jorge is also said to have had the support of many \"New Christians\", to have personally given them his protection and to have fought against the introduction of the Holy Inquisition into Portugal.\\nJorge\\'s party played a rather important role in the early India expeditions. They formed the \\'pragmatic\\' party, insisting, like John II had, that the India expeditions were a commercial venture, a means for the enrichment of the treasury, a \\'Renaissance\\' focus on wealth and power. Manuel\\'s party had a more \\'messianic\\' outlook, seeing the overseas expeditions through the Medieval goggles of Holy War and religious mission, coming up with schemes for two-pronged invasions of Egypt, marches on Mecca and the reconquest of Jerusalem. In this respect, Jorge (if not himself personally, certainly the party he led) played a vital role in keeping the India expeditions on a sane and viable track. Early India armada captains were drawn more from his party, than from Manuel\\'s.\\nIn the early years, Jorge\\'s power was partly reliant on the hope that he might yet succeed Manuel, but that prospect diminished quickly as Manuel\\'s new queen, Mary of Spain, produced a succession of sons. As time went on, his early fierce partisans began to slowly distance themselves and look for compromise and advancement with Manuel. For some, that meant leaving Jorge\\'s Orders of Santiago and Aviz and passing over to Manuel\\'s Order of Christ. Among those who made the switch were Francisco de Almeida and Vasco da Gama.\\nJorge picked a particularly unfortunate fight with Vasco da Gama, once a loyal partisan.  After da Gama\\'s glorious return from India in 1499, Manuel deftly promised the town of Sines as a reward to the admiral. But Sines was the property of the Order of Santiago.  Instinctively, Jorge was disposed to allow it, as a reward to one of his own; but since it was on the king\\'s order, he feared it was the thin end of the wedge to more royal appropriations of Order properties. So he decided to make a stand on principle and stepped in personally to prevent it. He went so far as to secure the banishment of da Gama from Sines in 1507. This prompted da Gama to make his final break with Jorge, leave his beloved Order of Santiago and switch to the rival Order of Christ.\\nJorge de Lencastre dedicated himself to defending his two knightly orders, Santiago and Aviz, from the unremitting poaching by Manuel\\'s Order of Christ.  In May 1505, Jorge managed to secure a royal order prohibiting knights from leaving his orders without his express permission.  But Manuel soon obtained from Pope Alexander VI two bulls to undermine him — one from July 1505, giving the King of Portugal the right to dispose of the property of all three Orders; another in January 1506, authorizing knights to move freely from other Orders to the Order of Christ.  However, Jorge continued to resist, and made a point of punishing knights who left without permission (for example, seizing the Sesimbra commenda of João de Menezes, Count of Tarouca, for having taken up the position of Prior of Crato without his consent).\\nIn 1509, Jorge introduced a new set of rules for the Order of Santiago, overhauling its administration in a centralized fashion, bringing it closer in line with the rules of their Spanish brethren.\\nBut with so many defections, Jorge found it hard to maintain his political footing, and his star was quickly waning. In 1516, the humiliation was complete when Manuel secured from Pope Leo X the authority to appoint Jorge\\'s successors as grand masters of the orders of Santiago and Aviz.\\n\\n\\n',\n",
       " 'Later Years': \"King Manuel died in late 1521, and was succeeded by his son, John III of Portugal. But the conflict with Jorge de Lencastre continued, the opposition standard taken up with more energy by Jorge's son, João de Lencastre, Marquis of Torres Novas. The sons of the old rivals butted heads politically and, increasingly, in the scandal sheets. In the late 1520s, João led the opposition to the marriage of King John III's brother, Infante Ferdinand, to Dona Guiomar Coutinho, a prominent noble heiress to the great feudal estates of Marialva and Loulé, on the grounds that he had already secretly married her. The King responded by locking up João de Lancastre in the Castle of São Jorge for some years (an episode later dramatized by Camilo Castelo Branco in his play O Marquez de Torres-Novas).\\nJorge himself produced a notable scandal late in life when, at the age of 67, he pursued (and  married) a 16-year-old girl, Filipa de Melo (daughter of Dom Fernando de Lima). King John III gave great publicity to the scandal, while, behind Jorge's back, securing an annulment from the pope.\\nWhen Jorge de Lencastre finally died in late July 1550, John III moved quickly to seize control of the military orders. From Pope Julius III, he received a bull in August 1550 appointing him personally as the master of both the Order of Santiago and the Order of Aviz. This was followed up by a second bull, issued under great diplomatic pressure in December 1551, appointing the Kings of Portugal as masters in perpetuity of both military orders, thus bringing an end to the independence of the orders Jorge had fought so hard to retain.\\nAt Jorge's death, John III took back the title of 'Duke of Coimbra' for the Crown. The official explanation was that Coimbra was a royal town and the existence of a feudal title bearing the town's name was inappropriate. The real reason was probably that the king was eager to erase a title that had been borne by two notable challengers of royal power, a name that might still have a magical pull on the imagination of the next bearer. The lands associated with the Duke of Coimbra were passed to the Duke of Aveiro, a new title created by John III shortly before (c. 1535) for Jorge's son and heir, João de Lencastre. The line of Lencastre would continue through the Dukes of Aveiro.\\n\\n\\n\",\n",
       " 'Marriage': 'In 1500, Jorge married Beatriz de Vilhena, daughter of Álvaro of Braganza, brother of Ferdinand II, Duke of Braganza.\\nJorge had several children from his marriage with Beatriz de Vilhena:\\n\\nJoão de Lencastre, 1st Duke of Aveiro\\nAfonso de Lencastre, Comendador-mor of São Tiago. He had a son:\\nÁlvaro of Lencastre, 3rd Duke of Aveiro\\nLuís de Lencastre, Comendador-mor of Aviz, married Magdalena de Granada, granddaughter of Abu l-Hasan Ali, Sultan of Granada and Isabel de Solís\\nJaime de Lencastre, Prior of São Pedro de Torres Vedras, 1st General-inquisitor of the kingdom\\nHelena de Lencastre, Comendadeira of the Royal Monastery of Santos\\nMaria de Lencastre, religious in the Monastery of Saint John in Setúbal (Soror Maria Madalena)\\nFilipa de Lencastre, prioress of the Monastery of Saint John in Setúbal\\nIsabel de Lencastre, religious in the Monastery of Saint John in Setúbal and after that in the Royal Monastery of Santos.He also had several illegitimate children.\\nJorge died in the castle of Palmela on 22 July 1550.\\n\\n\\n',\n",
       " 'Ancestry': '\\n\\n',\n",
       " 'See also': 'Duke of Coimbra\\nList of Portuguese Dukedoms\\n\\n\\n',\n",
       " 'Bibliography': 'Zúquete, A. (1989). Nobreza de Portugal e do Brasil. Vol. I. Lisbon: Zairol. pp. 342, 347.\\nSubrahmanyam, S. (1997). The Career and Legend of Vasco da Gama. Cambridge, UK: Cambridge University Press. ISBN 0-521-47072-2.\\n\\n\\n',\n",
       " 'External links': 'Genealogical information on Jorge of Lancastre, 2nd Duke of Coimbra (in Portuguese)\\n'}"
      ]
     },
     "execution_count": 57,
     "metadata": {},
     "output_type": "execute_result"
    }
   ],
   "source": [
    "from tasks.dataset import WikiDataset\n",
    "\n",
    "WikiDataset().get_wikipedia_article_content(link['title'])"
   ]
  },
  {
   "cell_type": "code",
   "execution_count": 5,
   "metadata": {},
   "outputs": [
    {
     "name": "stderr",
     "output_type": "stream",
     "text": [
      "Total events: 2047:  89%|████████▉ | 326/365 [05:08<00:36,  1.06day/s]\n"
     ]
    },
    {
     "ename": "KeyboardInterrupt",
     "evalue": "",
     "output_type": "error",
     "traceback": [
      "\u001b[0;31m---------------------------------------------------------------------------\u001b[0m",
      "\u001b[0;31mKeyboardInterrupt\u001b[0m                         Traceback (most recent call last)",
      "Cell \u001b[0;32mIn[5], line 43\u001b[0m\n\u001b[1;32m     41\u001b[0m pbar \u001b[38;5;241m=\u001b[39m tqdm\u001b[38;5;241m.\u001b[39mtqdm(\u001b[38;5;28mrange\u001b[39m(\u001b[38;5;241m1\u001b[39m, \u001b[38;5;241m366\u001b[39m), desc\u001b[38;5;241m=\u001b[39m\u001b[38;5;124m'\u001b[39m\u001b[38;5;124mGetting events\u001b[39m\u001b[38;5;124m'\u001b[39m, unit\u001b[38;5;241m=\u001b[39m\u001b[38;5;124m'\u001b[39m\u001b[38;5;124mday\u001b[39m\u001b[38;5;124m'\u001b[39m)\n\u001b[1;32m     42\u001b[0m \u001b[38;5;28;01mfor\u001b[39;00m doy \u001b[38;5;129;01min\u001b[39;00m pbar:\n\u001b[0;32m---> 43\u001b[0m     events \u001b[38;5;241m+\u001b[39m\u001b[38;5;241m=\u001b[39m \u001b[43mget_events_on_dates\u001b[49m\u001b[43m(\u001b[49m\u001b[43mdoy\u001b[49m\u001b[43m)\u001b[49m\n\u001b[1;32m     44\u001b[0m     pbar\u001b[38;5;241m.\u001b[39mset_description(\u001b[38;5;124mf\u001b[39m\u001b[38;5;124m'\u001b[39m\u001b[38;5;124mTotal events: \u001b[39m\u001b[38;5;132;01m{\u001b[39;00m\u001b[38;5;28mlen\u001b[39m(events)\u001b[38;5;132;01m}\u001b[39;00m\u001b[38;5;124m'\u001b[39m)\n\u001b[1;32m     45\u001b[0m     \u001b[38;5;66;03m# print(f'Added {len(events)} events from {doy} days')\u001b[39;00m\n",
      "Cell \u001b[0;32mIn[5], line 14\u001b[0m, in \u001b[0;36mget_events_on_dates\u001b[0;34m(day_of_year, year)\u001b[0m\n\u001b[1;32m     12\u001b[0m url \u001b[38;5;241m=\u001b[39m \u001b[38;5;124mf\u001b[39m\u001b[38;5;124m\"\u001b[39m\u001b[38;5;124mhttps://en.wikipedia.org/wiki/\u001b[39m\u001b[38;5;132;01m{\u001b[39;00mformatted_date\u001b[38;5;132;01m}\u001b[39;00m\u001b[38;5;124m\"\u001b[39m\n\u001b[1;32m     13\u001b[0m \u001b[38;5;66;03m# print(f\"Retrieving {url}...\")\u001b[39;00m\n\u001b[0;32m---> 14\u001b[0m response \u001b[38;5;241m=\u001b[39m \u001b[43mrequests\u001b[49m\u001b[38;5;241;43m.\u001b[39;49m\u001b[43mget\u001b[49m\u001b[43m(\u001b[49m\u001b[43murl\u001b[49m\u001b[43m)\u001b[49m\n\u001b[1;32m     15\u001b[0m events \u001b[38;5;241m=\u001b[39m []\n\u001b[1;32m     17\u001b[0m \u001b[38;5;28;01mif\u001b[39;00m response\u001b[38;5;241m.\u001b[39mstatus_code \u001b[38;5;241m==\u001b[39m \u001b[38;5;241m200\u001b[39m:\n",
      "File \u001b[0;32m~/steffen/text-prompting-private/env/lib/python3.8/site-packages/requests/api.py:73\u001b[0m, in \u001b[0;36mget\u001b[0;34m(url, params, **kwargs)\u001b[0m\n\u001b[1;32m     62\u001b[0m \u001b[38;5;28;01mdef\u001b[39;00m \u001b[38;5;21mget\u001b[39m(url, params\u001b[38;5;241m=\u001b[39m\u001b[38;5;28;01mNone\u001b[39;00m, \u001b[38;5;241m*\u001b[39m\u001b[38;5;241m*\u001b[39mkwargs):\n\u001b[1;32m     63\u001b[0m \u001b[38;5;250m    \u001b[39m\u001b[38;5;124mr\u001b[39m\u001b[38;5;124;03m\"\"\"Sends a GET request.\u001b[39;00m\n\u001b[1;32m     64\u001b[0m \n\u001b[1;32m     65\u001b[0m \u001b[38;5;124;03m    :param url: URL for the new :class:`Request` object.\u001b[39;00m\n\u001b[0;32m   (...)\u001b[0m\n\u001b[1;32m     70\u001b[0m \u001b[38;5;124;03m    :rtype: requests.Response\u001b[39;00m\n\u001b[1;32m     71\u001b[0m \u001b[38;5;124;03m    \"\"\"\u001b[39;00m\n\u001b[0;32m---> 73\u001b[0m     \u001b[38;5;28;01mreturn\u001b[39;00m \u001b[43mrequest\u001b[49m\u001b[43m(\u001b[49m\u001b[38;5;124;43m\"\u001b[39;49m\u001b[38;5;124;43mget\u001b[39;49m\u001b[38;5;124;43m\"\u001b[39;49m\u001b[43m,\u001b[49m\u001b[43m \u001b[49m\u001b[43murl\u001b[49m\u001b[43m,\u001b[49m\u001b[43m \u001b[49m\u001b[43mparams\u001b[49m\u001b[38;5;241;43m=\u001b[39;49m\u001b[43mparams\u001b[49m\u001b[43m,\u001b[49m\u001b[43m \u001b[49m\u001b[38;5;241;43m*\u001b[39;49m\u001b[38;5;241;43m*\u001b[39;49m\u001b[43mkwargs\u001b[49m\u001b[43m)\u001b[49m\n",
      "File \u001b[0;32m~/steffen/text-prompting-private/env/lib/python3.8/site-packages/requests/api.py:59\u001b[0m, in \u001b[0;36mrequest\u001b[0;34m(method, url, **kwargs)\u001b[0m\n\u001b[1;32m     55\u001b[0m \u001b[38;5;66;03m# By using the 'with' statement we are sure the session is closed, thus we\u001b[39;00m\n\u001b[1;32m     56\u001b[0m \u001b[38;5;66;03m# avoid leaving sockets open which can trigger a ResourceWarning in some\u001b[39;00m\n\u001b[1;32m     57\u001b[0m \u001b[38;5;66;03m# cases, and look like a memory leak in others.\u001b[39;00m\n\u001b[1;32m     58\u001b[0m \u001b[38;5;28;01mwith\u001b[39;00m sessions\u001b[38;5;241m.\u001b[39mSession() \u001b[38;5;28;01mas\u001b[39;00m session:\n\u001b[0;32m---> 59\u001b[0m     \u001b[38;5;28;01mreturn\u001b[39;00m \u001b[43msession\u001b[49m\u001b[38;5;241;43m.\u001b[39;49m\u001b[43mrequest\u001b[49m\u001b[43m(\u001b[49m\u001b[43mmethod\u001b[49m\u001b[38;5;241;43m=\u001b[39;49m\u001b[43mmethod\u001b[49m\u001b[43m,\u001b[49m\u001b[43m \u001b[49m\u001b[43murl\u001b[49m\u001b[38;5;241;43m=\u001b[39;49m\u001b[43murl\u001b[49m\u001b[43m,\u001b[49m\u001b[43m \u001b[49m\u001b[38;5;241;43m*\u001b[39;49m\u001b[38;5;241;43m*\u001b[39;49m\u001b[43mkwargs\u001b[49m\u001b[43m)\u001b[49m\n",
      "File \u001b[0;32m~/steffen/text-prompting-private/env/lib/python3.8/site-packages/requests/sessions.py:589\u001b[0m, in \u001b[0;36mSession.request\u001b[0;34m(self, method, url, params, data, headers, cookies, files, auth, timeout, allow_redirects, proxies, hooks, stream, verify, cert, json)\u001b[0m\n\u001b[1;32m    584\u001b[0m send_kwargs \u001b[38;5;241m=\u001b[39m {\n\u001b[1;32m    585\u001b[0m     \u001b[38;5;124m\"\u001b[39m\u001b[38;5;124mtimeout\u001b[39m\u001b[38;5;124m\"\u001b[39m: timeout,\n\u001b[1;32m    586\u001b[0m     \u001b[38;5;124m\"\u001b[39m\u001b[38;5;124mallow_redirects\u001b[39m\u001b[38;5;124m\"\u001b[39m: allow_redirects,\n\u001b[1;32m    587\u001b[0m }\n\u001b[1;32m    588\u001b[0m send_kwargs\u001b[38;5;241m.\u001b[39mupdate(settings)\n\u001b[0;32m--> 589\u001b[0m resp \u001b[38;5;241m=\u001b[39m \u001b[38;5;28;43mself\u001b[39;49m\u001b[38;5;241;43m.\u001b[39;49m\u001b[43msend\u001b[49m\u001b[43m(\u001b[49m\u001b[43mprep\u001b[49m\u001b[43m,\u001b[49m\u001b[43m \u001b[49m\u001b[38;5;241;43m*\u001b[39;49m\u001b[38;5;241;43m*\u001b[39;49m\u001b[43msend_kwargs\u001b[49m\u001b[43m)\u001b[49m\n\u001b[1;32m    591\u001b[0m \u001b[38;5;28;01mreturn\u001b[39;00m resp\n",
      "File \u001b[0;32m~/steffen/text-prompting-private/env/lib/python3.8/site-packages/requests/sessions.py:703\u001b[0m, in \u001b[0;36mSession.send\u001b[0;34m(self, request, **kwargs)\u001b[0m\n\u001b[1;32m    700\u001b[0m start \u001b[38;5;241m=\u001b[39m preferred_clock()\n\u001b[1;32m    702\u001b[0m \u001b[38;5;66;03m# Send the request\u001b[39;00m\n\u001b[0;32m--> 703\u001b[0m r \u001b[38;5;241m=\u001b[39m \u001b[43madapter\u001b[49m\u001b[38;5;241;43m.\u001b[39;49m\u001b[43msend\u001b[49m\u001b[43m(\u001b[49m\u001b[43mrequest\u001b[49m\u001b[43m,\u001b[49m\u001b[43m \u001b[49m\u001b[38;5;241;43m*\u001b[39;49m\u001b[38;5;241;43m*\u001b[39;49m\u001b[43mkwargs\u001b[49m\u001b[43m)\u001b[49m\n\u001b[1;32m    705\u001b[0m \u001b[38;5;66;03m# Total elapsed time of the request (approximately)\u001b[39;00m\n\u001b[1;32m    706\u001b[0m elapsed \u001b[38;5;241m=\u001b[39m preferred_clock() \u001b[38;5;241m-\u001b[39m start\n",
      "File \u001b[0;32m~/steffen/text-prompting-private/env/lib/python3.8/site-packages/requests/adapters.py:486\u001b[0m, in \u001b[0;36mHTTPAdapter.send\u001b[0;34m(self, request, stream, timeout, verify, cert, proxies)\u001b[0m\n\u001b[1;32m    483\u001b[0m     timeout \u001b[38;5;241m=\u001b[39m TimeoutSauce(connect\u001b[38;5;241m=\u001b[39mtimeout, read\u001b[38;5;241m=\u001b[39mtimeout)\n\u001b[1;32m    485\u001b[0m \u001b[38;5;28;01mtry\u001b[39;00m:\n\u001b[0;32m--> 486\u001b[0m     resp \u001b[38;5;241m=\u001b[39m \u001b[43mconn\u001b[49m\u001b[38;5;241;43m.\u001b[39;49m\u001b[43murlopen\u001b[49m\u001b[43m(\u001b[49m\n\u001b[1;32m    487\u001b[0m \u001b[43m        \u001b[49m\u001b[43mmethod\u001b[49m\u001b[38;5;241;43m=\u001b[39;49m\u001b[43mrequest\u001b[49m\u001b[38;5;241;43m.\u001b[39;49m\u001b[43mmethod\u001b[49m\u001b[43m,\u001b[49m\n\u001b[1;32m    488\u001b[0m \u001b[43m        \u001b[49m\u001b[43murl\u001b[49m\u001b[38;5;241;43m=\u001b[39;49m\u001b[43murl\u001b[49m\u001b[43m,\u001b[49m\n\u001b[1;32m    489\u001b[0m \u001b[43m        \u001b[49m\u001b[43mbody\u001b[49m\u001b[38;5;241;43m=\u001b[39;49m\u001b[43mrequest\u001b[49m\u001b[38;5;241;43m.\u001b[39;49m\u001b[43mbody\u001b[49m\u001b[43m,\u001b[49m\n\u001b[1;32m    490\u001b[0m \u001b[43m        \u001b[49m\u001b[43mheaders\u001b[49m\u001b[38;5;241;43m=\u001b[39;49m\u001b[43mrequest\u001b[49m\u001b[38;5;241;43m.\u001b[39;49m\u001b[43mheaders\u001b[49m\u001b[43m,\u001b[49m\n\u001b[1;32m    491\u001b[0m \u001b[43m        \u001b[49m\u001b[43mredirect\u001b[49m\u001b[38;5;241;43m=\u001b[39;49m\u001b[38;5;28;43;01mFalse\u001b[39;49;00m\u001b[43m,\u001b[49m\n\u001b[1;32m    492\u001b[0m \u001b[43m        \u001b[49m\u001b[43massert_same_host\u001b[49m\u001b[38;5;241;43m=\u001b[39;49m\u001b[38;5;28;43;01mFalse\u001b[39;49;00m\u001b[43m,\u001b[49m\n\u001b[1;32m    493\u001b[0m \u001b[43m        \u001b[49m\u001b[43mpreload_content\u001b[49m\u001b[38;5;241;43m=\u001b[39;49m\u001b[38;5;28;43;01mFalse\u001b[39;49;00m\u001b[43m,\u001b[49m\n\u001b[1;32m    494\u001b[0m \u001b[43m        \u001b[49m\u001b[43mdecode_content\u001b[49m\u001b[38;5;241;43m=\u001b[39;49m\u001b[38;5;28;43;01mFalse\u001b[39;49;00m\u001b[43m,\u001b[49m\n\u001b[1;32m    495\u001b[0m \u001b[43m        \u001b[49m\u001b[43mretries\u001b[49m\u001b[38;5;241;43m=\u001b[39;49m\u001b[38;5;28;43mself\u001b[39;49m\u001b[38;5;241;43m.\u001b[39;49m\u001b[43mmax_retries\u001b[49m\u001b[43m,\u001b[49m\n\u001b[1;32m    496\u001b[0m \u001b[43m        \u001b[49m\u001b[43mtimeout\u001b[49m\u001b[38;5;241;43m=\u001b[39;49m\u001b[43mtimeout\u001b[49m\u001b[43m,\u001b[49m\n\u001b[1;32m    497\u001b[0m \u001b[43m        \u001b[49m\u001b[43mchunked\u001b[49m\u001b[38;5;241;43m=\u001b[39;49m\u001b[43mchunked\u001b[49m\u001b[43m,\u001b[49m\n\u001b[1;32m    498\u001b[0m \u001b[43m    \u001b[49m\u001b[43m)\u001b[49m\n\u001b[1;32m    500\u001b[0m \u001b[38;5;28;01mexcept\u001b[39;00m (ProtocolError, \u001b[38;5;167;01mOSError\u001b[39;00m) \u001b[38;5;28;01mas\u001b[39;00m err:\n\u001b[1;32m    501\u001b[0m     \u001b[38;5;28;01mraise\u001b[39;00m \u001b[38;5;167;01mConnectionError\u001b[39;00m(err, request\u001b[38;5;241m=\u001b[39mrequest)\n",
      "File \u001b[0;32m~/steffen/text-prompting-private/env/lib/python3.8/site-packages/urllib3/connectionpool.py:790\u001b[0m, in \u001b[0;36mHTTPConnectionPool.urlopen\u001b[0;34m(self, method, url, body, headers, retries, redirect, assert_same_host, timeout, pool_timeout, release_conn, chunked, body_pos, preload_content, decode_content, **response_kw)\u001b[0m\n\u001b[1;32m    787\u001b[0m response_conn \u001b[38;5;241m=\u001b[39m conn \u001b[38;5;28;01mif\u001b[39;00m \u001b[38;5;129;01mnot\u001b[39;00m release_conn \u001b[38;5;28;01melse\u001b[39;00m \u001b[38;5;28;01mNone\u001b[39;00m\n\u001b[1;32m    789\u001b[0m \u001b[38;5;66;03m# Make the request on the HTTPConnection object\u001b[39;00m\n\u001b[0;32m--> 790\u001b[0m response \u001b[38;5;241m=\u001b[39m \u001b[38;5;28;43mself\u001b[39;49m\u001b[38;5;241;43m.\u001b[39;49m\u001b[43m_make_request\u001b[49m\u001b[43m(\u001b[49m\n\u001b[1;32m    791\u001b[0m \u001b[43m    \u001b[49m\u001b[43mconn\u001b[49m\u001b[43m,\u001b[49m\n\u001b[1;32m    792\u001b[0m \u001b[43m    \u001b[49m\u001b[43mmethod\u001b[49m\u001b[43m,\u001b[49m\n\u001b[1;32m    793\u001b[0m \u001b[43m    \u001b[49m\u001b[43murl\u001b[49m\u001b[43m,\u001b[49m\n\u001b[1;32m    794\u001b[0m \u001b[43m    \u001b[49m\u001b[43mtimeout\u001b[49m\u001b[38;5;241;43m=\u001b[39;49m\u001b[43mtimeout_obj\u001b[49m\u001b[43m,\u001b[49m\n\u001b[1;32m    795\u001b[0m \u001b[43m    \u001b[49m\u001b[43mbody\u001b[49m\u001b[38;5;241;43m=\u001b[39;49m\u001b[43mbody\u001b[49m\u001b[43m,\u001b[49m\n\u001b[1;32m    796\u001b[0m \u001b[43m    \u001b[49m\u001b[43mheaders\u001b[49m\u001b[38;5;241;43m=\u001b[39;49m\u001b[43mheaders\u001b[49m\u001b[43m,\u001b[49m\n\u001b[1;32m    797\u001b[0m \u001b[43m    \u001b[49m\u001b[43mchunked\u001b[49m\u001b[38;5;241;43m=\u001b[39;49m\u001b[43mchunked\u001b[49m\u001b[43m,\u001b[49m\n\u001b[1;32m    798\u001b[0m \u001b[43m    \u001b[49m\u001b[43mretries\u001b[49m\u001b[38;5;241;43m=\u001b[39;49m\u001b[43mretries\u001b[49m\u001b[43m,\u001b[49m\n\u001b[1;32m    799\u001b[0m \u001b[43m    \u001b[49m\u001b[43mresponse_conn\u001b[49m\u001b[38;5;241;43m=\u001b[39;49m\u001b[43mresponse_conn\u001b[49m\u001b[43m,\u001b[49m\n\u001b[1;32m    800\u001b[0m \u001b[43m    \u001b[49m\u001b[43mpreload_content\u001b[49m\u001b[38;5;241;43m=\u001b[39;49m\u001b[43mpreload_content\u001b[49m\u001b[43m,\u001b[49m\n\u001b[1;32m    801\u001b[0m \u001b[43m    \u001b[49m\u001b[43mdecode_content\u001b[49m\u001b[38;5;241;43m=\u001b[39;49m\u001b[43mdecode_content\u001b[49m\u001b[43m,\u001b[49m\n\u001b[1;32m    802\u001b[0m \u001b[43m    \u001b[49m\u001b[38;5;241;43m*\u001b[39;49m\u001b[38;5;241;43m*\u001b[39;49m\u001b[43mresponse_kw\u001b[49m\u001b[43m,\u001b[49m\n\u001b[1;32m    803\u001b[0m \u001b[43m\u001b[49m\u001b[43m)\u001b[49m\n\u001b[1;32m    805\u001b[0m \u001b[38;5;66;03m# Everything went great!\u001b[39;00m\n\u001b[1;32m    806\u001b[0m clean_exit \u001b[38;5;241m=\u001b[39m \u001b[38;5;28;01mTrue\u001b[39;00m\n",
      "File \u001b[0;32m~/steffen/text-prompting-private/env/lib/python3.8/site-packages/urllib3/connectionpool.py:536\u001b[0m, in \u001b[0;36mHTTPConnectionPool._make_request\u001b[0;34m(self, conn, method, url, body, headers, retries, timeout, chunked, response_conn, preload_content, decode_content, enforce_content_length)\u001b[0m\n\u001b[1;32m    534\u001b[0m \u001b[38;5;66;03m# Receive the response from the server\u001b[39;00m\n\u001b[1;32m    535\u001b[0m \u001b[38;5;28;01mtry\u001b[39;00m:\n\u001b[0;32m--> 536\u001b[0m     response \u001b[38;5;241m=\u001b[39m \u001b[43mconn\u001b[49m\u001b[38;5;241;43m.\u001b[39;49m\u001b[43mgetresponse\u001b[49m\u001b[43m(\u001b[49m\u001b[43m)\u001b[49m\n\u001b[1;32m    537\u001b[0m \u001b[38;5;28;01mexcept\u001b[39;00m (BaseSSLError, \u001b[38;5;167;01mOSError\u001b[39;00m) \u001b[38;5;28;01mas\u001b[39;00m e:\n\u001b[1;32m    538\u001b[0m     \u001b[38;5;28mself\u001b[39m\u001b[38;5;241m.\u001b[39m_raise_timeout(err\u001b[38;5;241m=\u001b[39me, url\u001b[38;5;241m=\u001b[39murl, timeout_value\u001b[38;5;241m=\u001b[39mread_timeout)\n",
      "File \u001b[0;32m~/steffen/text-prompting-private/env/lib/python3.8/site-packages/urllib3/connection.py:461\u001b[0m, in \u001b[0;36mHTTPConnection.getresponse\u001b[0;34m(self)\u001b[0m\n\u001b[1;32m    458\u001b[0m \u001b[38;5;28;01mfrom\u001b[39;00m \u001b[38;5;21;01m.\u001b[39;00m\u001b[38;5;21;01mresponse\u001b[39;00m \u001b[38;5;28;01mimport\u001b[39;00m HTTPResponse\n\u001b[1;32m    460\u001b[0m \u001b[38;5;66;03m# Get the response from http.client.HTTPConnection\u001b[39;00m\n\u001b[0;32m--> 461\u001b[0m httplib_response \u001b[38;5;241m=\u001b[39m \u001b[38;5;28;43msuper\u001b[39;49m\u001b[43m(\u001b[49m\u001b[43m)\u001b[49m\u001b[38;5;241;43m.\u001b[39;49m\u001b[43mgetresponse\u001b[49m\u001b[43m(\u001b[49m\u001b[43m)\u001b[49m\n\u001b[1;32m    463\u001b[0m \u001b[38;5;28;01mtry\u001b[39;00m:\n\u001b[1;32m    464\u001b[0m     assert_header_parsing(httplib_response\u001b[38;5;241m.\u001b[39mmsg)\n",
      "File \u001b[0;32m/usr/lib/python3.8/http/client.py:1348\u001b[0m, in \u001b[0;36mHTTPConnection.getresponse\u001b[0;34m(self)\u001b[0m\n\u001b[1;32m   1346\u001b[0m \u001b[38;5;28;01mtry\u001b[39;00m:\n\u001b[1;32m   1347\u001b[0m     \u001b[38;5;28;01mtry\u001b[39;00m:\n\u001b[0;32m-> 1348\u001b[0m         \u001b[43mresponse\u001b[49m\u001b[38;5;241;43m.\u001b[39;49m\u001b[43mbegin\u001b[49m\u001b[43m(\u001b[49m\u001b[43m)\u001b[49m\n\u001b[1;32m   1349\u001b[0m     \u001b[38;5;28;01mexcept\u001b[39;00m \u001b[38;5;167;01mConnectionError\u001b[39;00m:\n\u001b[1;32m   1350\u001b[0m         \u001b[38;5;28mself\u001b[39m\u001b[38;5;241m.\u001b[39mclose()\n",
      "File \u001b[0;32m/usr/lib/python3.8/http/client.py:316\u001b[0m, in \u001b[0;36mHTTPResponse.begin\u001b[0;34m(self)\u001b[0m\n\u001b[1;32m    314\u001b[0m \u001b[38;5;66;03m# read until we get a non-100 response\u001b[39;00m\n\u001b[1;32m    315\u001b[0m \u001b[38;5;28;01mwhile\u001b[39;00m \u001b[38;5;28;01mTrue\u001b[39;00m:\n\u001b[0;32m--> 316\u001b[0m     version, status, reason \u001b[38;5;241m=\u001b[39m \u001b[38;5;28;43mself\u001b[39;49m\u001b[38;5;241;43m.\u001b[39;49m\u001b[43m_read_status\u001b[49m\u001b[43m(\u001b[49m\u001b[43m)\u001b[49m\n\u001b[1;32m    317\u001b[0m     \u001b[38;5;28;01mif\u001b[39;00m status \u001b[38;5;241m!=\u001b[39m CONTINUE:\n\u001b[1;32m    318\u001b[0m         \u001b[38;5;28;01mbreak\u001b[39;00m\n",
      "File \u001b[0;32m/usr/lib/python3.8/http/client.py:277\u001b[0m, in \u001b[0;36mHTTPResponse._read_status\u001b[0;34m(self)\u001b[0m\n\u001b[1;32m    276\u001b[0m \u001b[38;5;28;01mdef\u001b[39;00m \u001b[38;5;21m_read_status\u001b[39m(\u001b[38;5;28mself\u001b[39m):\n\u001b[0;32m--> 277\u001b[0m     line \u001b[38;5;241m=\u001b[39m \u001b[38;5;28mstr\u001b[39m(\u001b[38;5;28;43mself\u001b[39;49m\u001b[38;5;241;43m.\u001b[39;49m\u001b[43mfp\u001b[49m\u001b[38;5;241;43m.\u001b[39;49m\u001b[43mreadline\u001b[49m\u001b[43m(\u001b[49m\u001b[43m_MAXLINE\u001b[49m\u001b[43m \u001b[49m\u001b[38;5;241;43m+\u001b[39;49m\u001b[43m \u001b[49m\u001b[38;5;241;43m1\u001b[39;49m\u001b[43m)\u001b[49m, \u001b[38;5;124m\"\u001b[39m\u001b[38;5;124miso-8859-1\u001b[39m\u001b[38;5;124m\"\u001b[39m)\n\u001b[1;32m    278\u001b[0m     \u001b[38;5;28;01mif\u001b[39;00m \u001b[38;5;28mlen\u001b[39m(line) \u001b[38;5;241m>\u001b[39m _MAXLINE:\n\u001b[1;32m    279\u001b[0m         \u001b[38;5;28;01mraise\u001b[39;00m LineTooLong(\u001b[38;5;124m\"\u001b[39m\u001b[38;5;124mstatus line\u001b[39m\u001b[38;5;124m\"\u001b[39m)\n",
      "File \u001b[0;32m/usr/lib/python3.8/socket.py:669\u001b[0m, in \u001b[0;36mSocketIO.readinto\u001b[0;34m(self, b)\u001b[0m\n\u001b[1;32m    667\u001b[0m \u001b[38;5;28;01mwhile\u001b[39;00m \u001b[38;5;28;01mTrue\u001b[39;00m:\n\u001b[1;32m    668\u001b[0m     \u001b[38;5;28;01mtry\u001b[39;00m:\n\u001b[0;32m--> 669\u001b[0m         \u001b[38;5;28;01mreturn\u001b[39;00m \u001b[38;5;28;43mself\u001b[39;49m\u001b[38;5;241;43m.\u001b[39;49m\u001b[43m_sock\u001b[49m\u001b[38;5;241;43m.\u001b[39;49m\u001b[43mrecv_into\u001b[49m\u001b[43m(\u001b[49m\u001b[43mb\u001b[49m\u001b[43m)\u001b[49m\n\u001b[1;32m    670\u001b[0m     \u001b[38;5;28;01mexcept\u001b[39;00m timeout:\n\u001b[1;32m    671\u001b[0m         \u001b[38;5;28mself\u001b[39m\u001b[38;5;241m.\u001b[39m_timeout_occurred \u001b[38;5;241m=\u001b[39m \u001b[38;5;28;01mTrue\u001b[39;00m\n",
      "File \u001b[0;32m/usr/lib/python3.8/ssl.py:1241\u001b[0m, in \u001b[0;36mSSLSocket.recv_into\u001b[0;34m(self, buffer, nbytes, flags)\u001b[0m\n\u001b[1;32m   1237\u001b[0m     \u001b[38;5;28;01mif\u001b[39;00m flags \u001b[38;5;241m!=\u001b[39m \u001b[38;5;241m0\u001b[39m:\n\u001b[1;32m   1238\u001b[0m         \u001b[38;5;28;01mraise\u001b[39;00m \u001b[38;5;167;01mValueError\u001b[39;00m(\n\u001b[1;32m   1239\u001b[0m           \u001b[38;5;124m\"\u001b[39m\u001b[38;5;124mnon-zero flags not allowed in calls to recv_into() on \u001b[39m\u001b[38;5;132;01m%s\u001b[39;00m\u001b[38;5;124m\"\u001b[39m \u001b[38;5;241m%\u001b[39m\n\u001b[1;32m   1240\u001b[0m           \u001b[38;5;28mself\u001b[39m\u001b[38;5;241m.\u001b[39m\u001b[38;5;18m__class__\u001b[39m)\n\u001b[0;32m-> 1241\u001b[0m     \u001b[38;5;28;01mreturn\u001b[39;00m \u001b[38;5;28;43mself\u001b[39;49m\u001b[38;5;241;43m.\u001b[39;49m\u001b[43mread\u001b[49m\u001b[43m(\u001b[49m\u001b[43mnbytes\u001b[49m\u001b[43m,\u001b[49m\u001b[43m \u001b[49m\u001b[43mbuffer\u001b[49m\u001b[43m)\u001b[49m\n\u001b[1;32m   1242\u001b[0m \u001b[38;5;28;01melse\u001b[39;00m:\n\u001b[1;32m   1243\u001b[0m     \u001b[38;5;28;01mreturn\u001b[39;00m \u001b[38;5;28msuper\u001b[39m()\u001b[38;5;241m.\u001b[39mrecv_into(buffer, nbytes, flags)\n",
      "File \u001b[0;32m/usr/lib/python3.8/ssl.py:1099\u001b[0m, in \u001b[0;36mSSLSocket.read\u001b[0;34m(self, len, buffer)\u001b[0m\n\u001b[1;32m   1097\u001b[0m \u001b[38;5;28;01mtry\u001b[39;00m:\n\u001b[1;32m   1098\u001b[0m     \u001b[38;5;28;01mif\u001b[39;00m buffer \u001b[38;5;129;01mis\u001b[39;00m \u001b[38;5;129;01mnot\u001b[39;00m \u001b[38;5;28;01mNone\u001b[39;00m:\n\u001b[0;32m-> 1099\u001b[0m         \u001b[38;5;28;01mreturn\u001b[39;00m \u001b[38;5;28;43mself\u001b[39;49m\u001b[38;5;241;43m.\u001b[39;49m\u001b[43m_sslobj\u001b[49m\u001b[38;5;241;43m.\u001b[39;49m\u001b[43mread\u001b[49m\u001b[43m(\u001b[49m\u001b[38;5;28;43mlen\u001b[39;49m\u001b[43m,\u001b[49m\u001b[43m \u001b[49m\u001b[43mbuffer\u001b[49m\u001b[43m)\u001b[49m\n\u001b[1;32m   1100\u001b[0m     \u001b[38;5;28;01melse\u001b[39;00m:\n\u001b[1;32m   1101\u001b[0m         \u001b[38;5;28;01mreturn\u001b[39;00m \u001b[38;5;28mself\u001b[39m\u001b[38;5;241m.\u001b[39m_sslobj\u001b[38;5;241m.\u001b[39mread(\u001b[38;5;28mlen\u001b[39m)\n",
      "\u001b[0;31mKeyboardInterrupt\u001b[0m: "
     ]
    }
   ],
   "source": [
    "from datetime import datetime, timedelta\n",
    "\n",
    "\n",
    "def get_events_on_dates(day_of_year, year=2021):\n",
    "    \n",
    "    start_of_year = datetime(year, 1, 1)\n",
    "    date = start_of_year + timedelta(days=day_of_year - 1)\n",
    "    # Step 2: Format the date for Wikipedia URL\n",
    "    formatted_date = date.strftime(\"%B_%d\")  # E.g., \"January_01\"\n",
    "\n",
    "    # Step 3: Scrape Wikipedia\n",
    "    url = f\"https://en.wikipedia.org/wiki/{formatted_date}\"\n",
    "    # print(f\"Retrieving {url}...\")\n",
    "    response = requests.get(url)\n",
    "    events = []\n",
    "\n",
    "    if response.status_code == 200:\n",
    "        soup = BeautifulSoup(response.content, 'html.parser')\n",
    "        \n",
    "        # Find the events section\n",
    "        events_list = soup.find('span', id='Events').parent.find_next_sibling('ul')\n",
    "        \n",
    "        for li in events_list.find_all('li'):\n",
    "            event_text = li.get_text()\n",
    "            events.append(event_text)\n",
    "\n",
    "        # Step 4: Extract Event Information and Step 5: Select an Event\n",
    "        # if events:\n",
    "        #     selected_event = random.choice(events)\n",
    "        #     print(f\"Random Date: {random_date.strftime('%B %d')}\")\n",
    "        #     print(f\"Event: {selected_event}\")\n",
    "        # else:\n",
    "        #     print(\"No events found for this date.\")\n",
    "    else:\n",
    "        print(\"Failed to retrieve data from Wikipedia.\")\n",
    "    \n",
    "    return events\n",
    "\n",
    "events = []\n",
    "import tqdm\n",
    "pbar = tqdm.tqdm(range(1, 366), desc='Getting events', unit='day')\n",
    "for doy in pbar:\n",
    "    events += get_events_on_dates(doy)\n",
    "    pbar.set_description(f'Total events: {len(events)}')\n",
    "    # print(f'Added {len(events)} events from {doy} days')"
   ]
  },
  {
   "cell_type": "markdown",
   "metadata": {},
   "source": []
  }
 ],
 "metadata": {
  "kernelspec": {
   "display_name": "env",
   "language": "python",
   "name": "python3"
  },
  "language_info": {
   "codemirror_mode": {
    "name": "ipython",
    "version": 3
   },
   "file_extension": ".py",
   "mimetype": "text/x-python",
   "name": "python",
   "nbconvert_exporter": "python",
   "pygments_lexer": "ipython3",
   "version": "3.8.10"
  }
 },
 "nbformat": 4,
 "nbformat_minor": 2
}
