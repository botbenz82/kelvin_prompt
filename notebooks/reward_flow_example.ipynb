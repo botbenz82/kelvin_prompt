{
 "cells": [
  {
   "cell_type": "code",
   "execution_count": 1,
   "metadata": {},
   "outputs": [
    {
     "name": "stdout",
     "output_type": "stream",
     "text": [
      "\u001b[34m2024-01-09 23:24:12.192\u001b[0m | \u001b[1m      INFO      \u001b[0m | Loaded reward models: dict_keys(['rouge', 'relevance', 'diff'])\n"
     ]
    }
   ],
   "source": [
    "import pandas as pd\n",
    "from reward import DendriteResponseEvent\n",
    "from pipeline import RewardPipeline\n",
    "from types import SimpleNamespace\n",
    "\n",
    "selected_tasks = ['math', 'date_qa','debugging']    \n",
    "reward_pipeline = RewardPipeline(selected_tasks=selected_tasks)"
   ]
  },
  {
   "cell_type": "code",
   "execution_count": 2,
   "metadata": {},
   "outputs": [
    {
     "data": {
      "text/html": [
       "<div>\n",
       "<style scoped>\n",
       "    .dataframe tbody tr th:only-of-type {\n",
       "        vertical-align: middle;\n",
       "    }\n",
       "\n",
       "    .dataframe tbody tr th {\n",
       "        vertical-align: top;\n",
       "    }\n",
       "\n",
       "    .dataframe thead th {\n",
       "        text-align: right;\n",
       "    }\n",
       "</style>\n",
       "<table border=\"1\" class=\"dataframe\">\n",
       "  <thead>\n",
       "    <tr style=\"text-align: right;\">\n",
       "      <th></th>\n",
       "      <th>rouge_model_rewards</th>\n",
       "      <th>rouge_model_timings</th>\n",
       "      <th>rouge_model_batch_time</th>\n",
       "      <th>rouge_model_extra_info</th>\n",
       "      <th>relevance_model_rewards</th>\n",
       "      <th>relevance_model_timings</th>\n",
       "      <th>relevance_model_batch_time</th>\n",
       "      <th>relevance_model_extra_info</th>\n",
       "      <th>code_diff_model_rewards</th>\n",
       "      <th>code_diff_model_timings</th>\n",
       "      <th>code_diff_model_batch_time</th>\n",
       "      <th>code_diff_model_extra_info</th>\n",
       "    </tr>\n",
       "  </thead>\n",
       "  <tbody>\n",
       "    <tr>\n",
       "      <th>0</th>\n",
       "      <td>[0.5714285373687744, 0.307692289352417, 0.4285...</td>\n",
       "      <td>[0.00016, 0.0001, 0.00011, 0.0001, 0.00011]</td>\n",
       "      <td>0.001279</td>\n",
       "      <td>{'ngram': 'rouge-l', 'metric': 'f', 'avg': False}</td>\n",
       "      <td>[0.9603804349899292, 0.9828851222991943, 0.959...</td>\n",
       "      <td>None</td>\n",
       "      <td>0.739856</td>\n",
       "      <td>{'threshold': None}</td>\n",
       "      <td>[0.767123281955719, 0.5538461804389954, 0.5128...</td>\n",
       "      <td>[0.00015, 9e-05, 9e-05, 0.00011, 0.0001]</td>\n",
       "      <td>0.000556</td>\n",
       "      <td>{'threshold': 0.5, 'lines': False}</td>\n",
       "    </tr>\n",
       "  </tbody>\n",
       "</table>\n",
       "</div>"
      ],
      "text/plain": [
       "                                 rouge_model_rewards  \\\n",
       "0  [0.5714285373687744, 0.307692289352417, 0.4285...   \n",
       "\n",
       "                           rouge_model_timings  rouge_model_batch_time  \\\n",
       "0  [0.00016, 0.0001, 0.00011, 0.0001, 0.00011]                0.001279   \n",
       "\n",
       "                              rouge_model_extra_info  \\\n",
       "0  {'ngram': 'rouge-l', 'metric': 'f', 'avg': False}   \n",
       "\n",
       "                             relevance_model_rewards relevance_model_timings  \\\n",
       "0  [0.9603804349899292, 0.9828851222991943, 0.959...                    None   \n",
       "\n",
       "   relevance_model_batch_time relevance_model_extra_info  \\\n",
       "0                    0.739856        {'threshold': None}   \n",
       "\n",
       "                             code_diff_model_rewards  \\\n",
       "0  [0.767123281955719, 0.5538461804389954, 0.5128...   \n",
       "\n",
       "                    code_diff_model_timings  code_diff_model_batch_time  \\\n",
       "0  [0.00015, 9e-05, 9e-05, 0.00011, 0.0001]                    0.000556   \n",
       "\n",
       "           code_diff_model_extra_info  \n",
       "0  {'threshold': 0.5, 'lines': False}  "
      ]
     },
     "execution_count": 2,
     "metadata": {},
     "output_type": "execute_result"
    }
   ],
   "source": [
    "reference = \"Austin is the capital of texas\"    \n",
    "completions = [\n",
    "    \"Austin serves as the state capital of Texas\",\n",
    "    \"The capital city of Texas is Austin\",\n",
    "    \"In Texas, Austin holds the status of the capital\",\n",
    "    \"Texas has Austin as its capital city\",\n",
    "    \"As the capital, Austin represents the state of Texas\"\n",
    "]\n",
    "\n",
    "mock_task = SimpleNamespace(reward_models=['rouge', 'relevance', 'diff'])\n",
    "\n",
    "\n",
    "response_event = DendriteResponseEvent(reference=reference, completions=completions)\n",
    "reward_events = reward_pipeline.reward_responses(mock_task, response_event)\n",
    "\n",
    "array_of_dicts = [reward_event.asdict() for reward_event in reward_events]\n",
    "combined_dict = {**{key: value for dict in array_of_dicts for key, value in dict.items()}}\n",
    "\n",
    "df = pd.DataFrame([combined_dict])\n",
    "df"
   ]
  },
  {
   "cell_type": "code",
   "execution_count": null,
   "metadata": {},
   "outputs": [],
   "source": []
  }
 ],
 "metadata": {
  "kernelspec": {
   "display_name": "new_prototype",
   "language": "python",
   "name": "python3"
  },
  "language_info": {
   "codemirror_mode": {
    "name": "ipython",
    "version": 3
   },
   "file_extension": ".py",
   "mimetype": "text/x-python",
   "name": "python",
   "nbconvert_exporter": "python",
   "pygments_lexer": "ipython3",
   "version": "3.8.10"
  }
 },
 "nbformat": 4,
 "nbformat_minor": 2
}
