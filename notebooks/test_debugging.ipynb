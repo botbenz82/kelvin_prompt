{
 "cells": [
  {
   "cell_type": "code",
   "execution_count": 17,
   "metadata": {},
   "outputs": [],
   "source": [
    "import random\n",
    "import difflib\n",
    "import bittensor as bt\n",
    "from tasks.dataset import CodingDataset\n",
    "from tasks.debugging import corrupt, diff\n",
    "\n",
    "dataset = CodingDataset(languages=['Python','JavaScript','C++'])"
   ]
  },
  {
   "cell_type": "code",
   "execution_count": 2,
   "metadata": {},
   "outputs": [],
   "source": [
    "\n",
    "# def corrupt(code, n_remove=0, n_swap=0, seed=None, sep=' ', min_length=1, max_length=10):\n",
    "#     \"\"\"\n",
    "#     Corrupt a piece of code by removing and/or swapping chunks of it.\n",
    "#     TODO: Ignore comments and strings(?) when corrupting the code.\n",
    "\n",
    "#     Args:\n",
    "#         code (str): The code to corrupt.\n",
    "#         n_remove (int): The number of chunks to remove.\n",
    "#         n_swap (int): The number of chunks to swap.\n",
    "#         seed (int): The random seed to use.\n",
    "#         sep (str): The separator to use when splitting the code into chunks. Recommended values are '', ' ', '\\n'.\n",
    "#         min_length (int): The minimum length of a chunk.\n",
    "#         max_length (int): The maximum length of a chunk.\n",
    "#     \"\"\"\n",
    "\n",
    "#     # set seed for reproducibility\n",
    "#     random.seed(seed)\n",
    "\n",
    "#     assert n_remove + n_swap > 0, 'Must specify at least one corruption type.'\n",
    "\n",
    "#     def remove(code, n, sep=' ', min_length=1, max_length=10):\n",
    "#         \"\"\"Remove n random chunks from the code. Chunks can be characters, words, or lines.\"\"\"\n",
    "\n",
    "#         chunks = code.split(sep) if sep else list(code)\n",
    "        \n",
    "#         # select n random chunks to remove\n",
    "#         indices = random.sample([i for i, chunk in enumerate(chunks) if min_length <= len(chunk) <= max_length], n)\n",
    "#         bt.logging.info(f'Removing the following {len(indices)} chunks: {[chunks[i] for i in indices]} at indices {indices}')\n",
    "\n",
    "#         return sep.join([chunk for i, chunk in enumerate(chunks) if i not in indices])\n",
    "\n",
    "#     def swap(code, sep=' ', min_length=1, max_length=10):\n",
    "#         \"\"\"Swap two random chunks in the code. Chunks can be characters, words, or lines.\"\"\"\n",
    "#         chunks = code.split(sep) if sep else list(code)\n",
    "\n",
    "#         # select 2 random chunks to swap\n",
    "#         indices = random.sample([i for i, chunk in enumerate(chunks) if min_length <= len(chunk) <= max_length], 2)\n",
    "\n",
    "#         bt.logging.info(f'Swapping chunk {chunks[indices[0]]!r} at index {indices[0]} with chunk {chunks[indices[1]]!r} at index {indices[1]}')\n",
    "\n",
    "#         chunks[indices[0]], chunks[indices[1]] = chunks[indices[1]], chunks[indices[0]]\n",
    "\n",
    "#         return sep.join(chunks)\n",
    "\n",
    "#     # Disregard lines that are comments \n",
    "#     # TODO: Handle multiline comments and strings\n",
    "#     comment_lines = {i:line for i, line in enumerate(code.splitlines()) if line.strip() and line.strip().startswith(('#', '\"', \"'\",'/'))}\n",
    "#     code = '\\n'.join([line for i, line in enumerate(code.splitlines()) if i not in comment_lines])\n",
    "#     # spread n corruptions across the code\n",
    "#     for i in range(n_remove):\n",
    "#         code = remove(code, n=1, sep=sep, min_length=min_length, max_length=max_length)\n",
    "#     for i in range(n_swap):\n",
    "#         code = swap(code, sep=sep, min_length=min_length, max_length=max_length)\n",
    "        \n",
    "#     # Add the comments back in\n",
    "#     for i in comment_lines:\n",
    "#         code = code.splitlines()\n",
    "#         code.insert(i, code[i])\n",
    "#         code = '\\n'.join(code)\n",
    "\n",
    "#     return code\n",
    "\n",
    "# def get_diff(query, reference):\n",
    "#     \"\"\"Get the diff between two strings.\"\"\"\n",
    "#     return '\\n'.join(difflib.unified_diff(query.splitlines(), reference.splitlines()))\n"
   ]
  },
  {
   "cell_type": "code",
   "execution_count": 18,
   "metadata": {},
   "outputs": [
    {
     "data": {
      "text/plain": [
       "{'code': \"import React, { Component } from 'react';\\nimport { Link } from 'react-router';\\nimport { render } from 'react-dom';\\nimport DestinationModal from '../modal/destination-modal';\\n\\nimport '../../styles/destination.css'\\n\\nclass Destination extends Component {\\n  constructor(props) {\\n    super(props);\\n  }\\n\\n  displayDestination() {\\n    const { destinations } = this.props.destinations;\\n    let dests = destinations.reverse()\\n    return dests.map((destination, i) => (\\n      <div className='destContainer' key={'destination-'+i}>\\n        <Link to={{pathname: 'itinerary/'+destination.id, query: {place: destination.place}}}><div className='destPlace' key={'place-'+i}>{destination.place}</div></Link>\\n        <div className='destLocation'>\\n          <div className='iconLocation'></div> <div key={'country-'+i}>{destination.country} </div>\\n        </div>\\n        <div className='destClock'>\\n          <div className='iconClock'></div>\\n          <div key={'duration-'+i}>{destination.duration} </div>\\n        </div>\\n        <div className='destExpense'>\\n          <div className='iconExpense'></div>\\n          <div key={'total-'+i}>${destination.total_spent}</div>\\n        </div>\\n        <hr className='lineBreak' />\\n      </div>\\n    ))\\n  }\\n\\n  render() {\\n    if(this.props.profile.id) {\\n      return (\\n        <div id='master_itinerary'>\\n          {this.displayDestination()}\\n        </div>\\n      )\\n    }\\n    else {\\n      return (<div>Add a Destination!</div>)\\n    }\\n  }\\n}\\n\\n\\nexport default Destination;\\n\",\n",
       " 'repo_name': 'danbanwo/wanderly',\n",
       " 'path': 'front/components/destination/destination.js',\n",
       " 'language': 'JavaScript',\n",
       " 'license': 'mit',\n",
       " 'size': 1492}"
      ]
     },
     "execution_count": 18,
     "metadata": {},
     "output_type": "execute_result"
    }
   ],
   "source": [
    "context = dataset.next(min_lines=50, max_lines=50)\n",
    "context"
   ]
  },
  {
   "cell_type": "code",
   "execution_count": 19,
   "metadata": {},
   "outputs": [
    {
     "name": "stdout",
     "output_type": "stream",
     "text": [
      "\u001b[34m2024-01-08 16:31:39.895\u001b[0m | \u001b[1m      INFO      \u001b[0m | Query:\n",
      "import React, { Component } from 'react';\n",
      "import { Link } from 'react-router';\n",
      "import { render } from 'react-dom';\n",
      "import DestinationModal from '../modal/destination-modal';\n",
      "\n",
      "import '../../styles/destination.css'\n",
      "\n",
      "class Destination extends Component {\n",
      "  constructor(props) {\n",
      "    super(props);\n",
      "  }\n",
      "\n",
      "  displayDestination() {\n",
      "    const { destinations } = this.props.destinations;\n",
      "    let dests = destinations.reverse()\n",
      "    return dests.map((destination, i) => (\n",
      "      \n",
      "        {destination.place}\n",
      "        \n",
      "           {destination.country} \n",
      "        \n",
      "        \n",
      "          \n",
      "          {destination.duration} \n",
      "        \n",
      "        \n",
      "          \n",
      "          ${destination.total_spent}\n",
      "        \n",
      "        \n",
      "      \n",
      "    ))\n",
      "  }\n",
      "\n",
      "  render() {\n",
      "    if(this.props.profile.id) {\n",
      "      return (\n",
      "        \n",
      "          {this.displayDestination()}\n",
      "        \n",
      "      )\n",
      "    }\n",
      "    else {\n",
      "      return (Add a Destination!)\n",
      "    }\n",
      "  }\n",
      "}\n",
      "\n",
      "\n",
      "export default Destination;\n",
      "\n"
     ]
    }
   ],
   "source": [
    "\n",
    "query = context['code'][:]\n",
    "bt.logging.info(f'Query:\\n{query}')"
   ]
  },
  {
   "cell_type": "code",
   "execution_count": null,
   "metadata": {},
   "outputs": [
    {
     "name": "stdout",
     "output_type": "stream",
     "text": [
      "\u001b[34m2024-01-08 16:35:11.849\u001b[0m | \u001b[1m      INFO      \u001b[0m | Removing the following 1 chunks: ['from'] at indices [18]\n",
      "\u001b[34m2024-01-08 16:35:11.850\u001b[0m | \u001b[1m      INFO      \u001b[0m | Swapping chunk 'Component' at index 3 with chunk '<div' at index 90\n",
      "\u001b[34m2024-01-08 16:35:11.850\u001b[0m | \u001b[1m      INFO      \u001b[0m | Swapping chunk '<div' at index 65 with chunk 'i)' at index 57\n",
      "\u001b[34m2024-01-08 16:35:11.850\u001b[0m | \u001b[1m      INFO      \u001b[0m | Swapping chunk '{\\n' at index 26 with chunk 'from' at index 15\n"
     ]
    },
    {
     "name": "stdout",
     "output_type": "stream",
     "text": [
      "\u001b[34m2024-01-08 16:35:11.850\u001b[0m | \u001b[1m      INFO      \u001b[0m | Reference:\n",
      "import React, { <div } from 'react';\n",
      "import { Link } from 'react-router';\n",
      "import { render } {\n",
      " 'react-dom';\n",
      "import DestinationModal '../modal/destination-modal';\n",
      "\n",
      "import '../../styles/destination.css'\n",
      "\n",
      "class Destination extends Component {\n",
      "  constructor(props) from    super(props);\n",
      "  }\n",
      "\n",
      "  displayDestination() {\n",
      "    const { destinations } = this.props.destinations;\n",
      "    let dests = destinations.reverse()\n",
      "    return dests.map((destination,  (\n",
      "      i) className='destContainer' key={'destination-'+i}>\n",
      "        {destination.place}\n",
      "        Component className='destLocation'>\n",
      "           {destination.country} \n",
      "        \n",
      "        \n",
      "          \n",
      "          {destination.duration} \n",
      "        \n",
      "        \n",
      "          \n",
      "          ${destination.total_spent}\n",
      "        \n",
      "        \n",
      "      \n",
      "    ))\n",
      "  }\n",
      "\n",
      "  render() {\n",
      "    if(this.props.profile.id) {\n",
      "      return (\n",
      "        \n",
      "          {this.displayDestination()}\n",
      "        \n",
      "      )\n",
      "    }\n",
      "    else {\n",
      "      return (Add a Destination!)\n",
      "    }\n",
      "  }\n",
      "}\n",
      "\n",
      "\n",
      "export default Destination;\n",
      "\n"
     ]
    }
   ],
   "source": [
    "\n",
    "reference = corrupt(query, n_remove=1, n_swap=3, seed=42)\n",
    "bt.logging.info(f'Reference:\\n{reference}')\n"
   ]
  },
  {
   "cell_type": "code",
   "execution_count": 23,
   "metadata": {},
   "outputs": [
    {
     "name": "stdout",
     "output_type": "stream",
     "text": [
      "\u001b[34m2024-01-08 16:35:45.970\u001b[0m | \u001b[1m      INFO      \u001b[0m | Diff:\n",
      "--- \n",
      "\n",
      "+++ \n",
      "\n",
      "@@ -1,22 +1,22 @@\n",
      "\n",
      "-import React, { Component } from 'react';\n",
      "+import React, { <div } from 'react';\n",
      " import { Link } from 'react-router';\n",
      "-import { render } from 'react-dom';\n",
      "-import DestinationModal from '../modal/destination-modal';\n",
      "+import { render } {\n",
      "+ 'react-dom';\n",
      "+import DestinationModal '../modal/destination-modal';\n",
      " \n",
      " import '../../styles/destination.css'\n",
      " \n",
      " class Destination extends Component {\n",
      "-  constructor(props) {\n",
      "-    super(props);\n",
      "+  constructor(props) from    super(props);\n",
      "   }\n",
      " \n",
      "   displayDestination() {\n",
      "     const { destinations } = this.props.destinations;\n",
      "     let dests = destinations.reverse()\n",
      "-    return dests.map((destination, i) => (\n",
      "-      \n",
      "+    return dests.map((destination,  (\n",
      "+      i) className='destContainer' key={'destination-'+i}>\n",
      "         {destination.place}\n",
      "-        \n",
      "+        Component className='destLocation'>\n",
      "            {destination.country} \n",
      "         \n",
      "         \n"
     ]
    }
   ],
   "source": [
    "\n",
    "bt.logging.info(f'Diff:\\n{diff(query, reference)}')"
   ]
  },
  {
   "cell_type": "code",
   "execution_count": 24,
   "metadata": {},
   "outputs": [
    {
     "data": {
      "text/plain": [
       "<difflib.SequenceMatcher at 0x7f405f5a5940>"
      ]
     },
     "execution_count": 24,
     "metadata": {},
     "output_type": "execute_result"
    }
   ],
   "source": [
    "import difflib\n",
    "\n",
    "# Calculate the diff between query and reference code\n",
    "diff = difflib.SequenceMatcher(None, query, reference)\n",
    "diff# # Get the scalar value representing the difference\n",
    "# scalar_value = sum(size for _, _, size in diff.get_opcodes() if size > 0)\n",
    "\n",
    "# scalar_value\n"
   ]
  },
  {
   "cell_type": "code",
   "execution_count": 26,
   "metadata": {},
   "outputs": [
    {
     "data": {
      "text/plain": [
       "0.8244377307821417"
      ]
     },
     "execution_count": 26,
     "metadata": {},
     "output_type": "execute_result"
    }
   ],
   "source": [
    "difflib.SequenceMatcher(None, query, reference).ratio()"
   ]
  },
  {
   "cell_type": "code",
   "execution_count": 28,
   "metadata": {},
   "outputs": [
    {
     "data": {
      "text/plain": [
       "0.0"
      ]
     },
     "execution_count": 28,
     "metadata": {},
     "output_type": "execute_result"
    }
   ],
   "source": [
    "miner_completion = query[:]\n",
    "\n",
    "baseline_score = difflib.SequenceMatcher(None, query, reference).ratio()\n",
    "miner_score = max( difflib.SequenceMatcher(None, miner_completion, reference).ratio() - baseline_score, 0 )\n",
    "miner_score"
   ]
  },
  {
   "cell_type": "code",
   "execution_count": 33,
   "metadata": {},
   "outputs": [
    {
     "name": "stdout",
     "output_type": "stream",
     "text": [
      "Miner achieved score: 0.163\n",
      "Miner achieved score: 0.153\n",
      "Miner achieved score: 0.168\n",
      "Miner achieved score: 0.163\n",
      "Miner achieved score: 0.175\n",
      "Miner achieved score: 0.157\n",
      "Miner achieved score: 0.162\n",
      "Miner achieved score: 0.174\n",
      "Miner achieved score: 0.153\n",
      "Miner achieved score: 0.163\n"
     ]
    }
   ],
   "source": [
    "# miner completion is the reference with a missing line\n",
    "n_trials = 10\n",
    "for n in range(n_trials):\n",
    "    miner_completion = reference.splitlines()\n",
    "    miner_completion.pop(random.randint(0, len(miner_completion)-1))\n",
    "    miner_completion = '\\n'.join(miner_completion)\n",
    "\n",
    "    miner_score = max( difflib.SequenceMatcher(None, miner_completion, reference).ratio() - baseline_score, 0 )\n",
    "    print(f'Miner achieved score: {miner_score:.3f}')"
   ]
  },
  {
   "cell_type": "markdown",
   "metadata": {},
   "source": [
    "## What if this is way too hard?\n",
    "- We can make smaller changes\n",
    "- We can select smaller files\n"
   ]
  },
  {
   "cell_type": "code",
   "execution_count": null,
   "metadata": {},
   "outputs": [],
   "source": []
  }
 ],
 "metadata": {
  "kernelspec": {
   "display_name": "env",
   "language": "python",
   "name": "python3"
  },
  "language_info": {
   "codemirror_mode": {
    "name": "ipython",
    "version": 3
   },
   "file_extension": ".py",
   "mimetype": "text/x-python",
   "name": "python",
   "nbconvert_exporter": "python",
   "pygments_lexer": "ipython3",
   "version": "3.8.10"
  }
 },
 "nbformat": 4,
 "nbformat_minor": 2
}
